{
 "cells": [
  {
   "cell_type": "markdown",
   "metadata": {},
   "source": [
    "# Projeto de Análise de Vendas - Desafio Técnico\n",
    "\n",
    "1. Extração dos Dados \n",
    "\n",
    "2. Limpeza dos Dados \n",
    "\n",
    "3. Análise Exploratória com Visualização de Dados\n",
    "\n"
   ]
  },
  {
   "cell_type": "markdown",
   "metadata": {},
   "source": [
    "## 1. Extração dos Dados"
   ]
  },
  {
   "cell_type": "code",
   "execution_count": 26,
   "metadata": {},
   "outputs": [],
   "source": [
    "# importação do base de dados diretamente do git hub do teste \n",
    "import requests\n",
    "import pandas as pd\n",
    "url = 'https://raw.githubusercontent.com/fabiopimentel21/desafio-fadesp-processo-seletivo/master/data/dataset_desafio_fadesp.csv'\n",
    "base_dados_do_teste = pd.read_csv(url, encoding='latin1') # foi encontrado uma dificuldade na leitura do arquivo -> latin-1 ou ISO-8859-1, comum em arquivos em português (por causa dos acentos)"
   ]
  },
  {
   "cell_type": "markdown",
   "metadata": {},
   "source": [
    "## 1.2 Extração da Base de Metadados"
   ]
  },
  {
   "cell_type": "code",
   "execution_count": 27,
   "metadata": {},
   "outputs": [],
   "source": [
    "# importação dos metadados para analise da base completa obs: foi indentificado que na base não se encontrava a nomeclatura de toda a base \n",
    "metadados_do_teste = pd.read_excel(r'C:\\RPA\\desafio_projetos\\desafio_fadesp\\desafio-fadesp-processo-seletivo\\metadata.xlsx')"
   ]
  },
  {
   "cell_type": "markdown",
   "metadata": {},
   "source": [
    "## 1.3 Visualização dos Metadados"
   ]
  },
  {
   "cell_type": "code",
   "execution_count": 28,
   "metadata": {},
   "outputs": [
    {
     "data": {
      "text/html": [
       "<div>\n",
       "<style scoped>\n",
       "    .dataframe tbody tr th:only-of-type {\n",
       "        vertical-align: middle;\n",
       "    }\n",
       "\n",
       "    .dataframe tbody tr th {\n",
       "        vertical-align: top;\n",
       "    }\n",
       "\n",
       "    .dataframe thead th {\n",
       "        text-align: right;\n",
       "    }\n",
       "</style>\n",
       "<table border=\"1\" class=\"dataframe\">\n",
       "  <thead>\n",
       "    <tr style=\"text-align: right;\">\n",
       "      <th></th>\n",
       "      <th>Coluna</th>\n",
       "      <th>Descrição</th>\n",
       "    </tr>\n",
       "  </thead>\n",
       "  <tbody>\n",
       "    <tr>\n",
       "      <th>0</th>\n",
       "      <td>Row ID</td>\n",
       "      <td>ID do registro</td>\n",
       "    </tr>\n",
       "    <tr>\n",
       "      <th>1</th>\n",
       "      <td>Order ID</td>\n",
       "      <td>Identificação do pedido</td>\n",
       "    </tr>\n",
       "    <tr>\n",
       "      <th>2</th>\n",
       "      <td>Order Date</td>\n",
       "      <td>Data do pedido</td>\n",
       "    </tr>\n",
       "    <tr>\n",
       "      <th>3</th>\n",
       "      <td>Ship Date</td>\n",
       "      <td>Data de envio do pedido</td>\n",
       "    </tr>\n",
       "    <tr>\n",
       "      <th>4</th>\n",
       "      <td>Ship Mode</td>\n",
       "      <td>Modo de envio do pedido</td>\n",
       "    </tr>\n",
       "  </tbody>\n",
       "</table>\n",
       "</div>"
      ],
      "text/plain": [
       "       Coluna                Descrição\n",
       "0      Row ID           ID do registro\n",
       "1    Order ID  Identificação do pedido\n",
       "2  Order Date           Data do pedido\n",
       "3  Ship Date   Data de envio do pedido\n",
       "4  Ship Mode   Modo de envio do pedido"
      ]
     },
     "execution_count": 28,
     "metadata": {},
     "output_type": "execute_result"
    }
   ],
   "source": [
    "metadados_do_teste.head()"
   ]
  },
  {
   "cell_type": "markdown",
   "metadata": {},
   "source": [
    "## 1.4 Visualização da Base de Vendas"
   ]
  },
  {
   "cell_type": "code",
   "execution_count": 29,
   "metadata": {},
   "outputs": [
    {
     "data": {
      "text/html": [
       "<div>\n",
       "<style scoped>\n",
       "    .dataframe tbody tr th:only-of-type {\n",
       "        vertical-align: middle;\n",
       "    }\n",
       "\n",
       "    .dataframe tbody tr th {\n",
       "        vertical-align: top;\n",
       "    }\n",
       "\n",
       "    .dataframe thead th {\n",
       "        text-align: right;\n",
       "    }\n",
       "</style>\n",
       "<table border=\"1\" class=\"dataframe\">\n",
       "  <thead>\n",
       "    <tr style=\"text-align: right;\">\n",
       "      <th></th>\n",
       "      <th>Row ID</th>\n",
       "      <th>Order ID</th>\n",
       "      <th>Order Date</th>\n",
       "      <th>Ship Date</th>\n",
       "      <th>Ship Mode</th>\n",
       "      <th>Customer ID</th>\n",
       "      <th>Customer Name</th>\n",
       "      <th>Segment</th>\n",
       "      <th>City</th>\n",
       "      <th>State</th>\n",
       "      <th>...</th>\n",
       "      <th>Product ID</th>\n",
       "      <th>Category</th>\n",
       "      <th>Sub-Category</th>\n",
       "      <th>Product Name</th>\n",
       "      <th>Sales</th>\n",
       "      <th>Quantity</th>\n",
       "      <th>Discount</th>\n",
       "      <th>Profit</th>\n",
       "      <th>Shipping Cost</th>\n",
       "      <th>Order Priority</th>\n",
       "    </tr>\n",
       "  </thead>\n",
       "  <tbody>\n",
       "    <tr>\n",
       "      <th>0</th>\n",
       "      <td>42433</td>\n",
       "      <td>AG-2011-2040</td>\n",
       "      <td>1/1/2011</td>\n",
       "      <td>6/1/2011</td>\n",
       "      <td>Standard Class</td>\n",
       "      <td>TB-11280</td>\n",
       "      <td>Toby Braunhardt</td>\n",
       "      <td>Consumer</td>\n",
       "      <td>Constantine</td>\n",
       "      <td>Constantine</td>\n",
       "      <td>...</td>\n",
       "      <td>OFF-TEN-10000025</td>\n",
       "      <td>Office Supplies</td>\n",
       "      <td>Storage</td>\n",
       "      <td>Tenex Lockers, Blue</td>\n",
       "      <td>408.300</td>\n",
       "      <td>2</td>\n",
       "      <td>0.0</td>\n",
       "      <td>106.1400</td>\n",
       "      <td>35.46</td>\n",
       "      <td>Medium</td>\n",
       "    </tr>\n",
       "    <tr>\n",
       "      <th>1</th>\n",
       "      <td>22253</td>\n",
       "      <td>IN-2011-47883</td>\n",
       "      <td>1/1/2011</td>\n",
       "      <td>8/1/2011</td>\n",
       "      <td>Standard Class</td>\n",
       "      <td>JH-15985</td>\n",
       "      <td>Joseph Holt</td>\n",
       "      <td>Consumer</td>\n",
       "      <td>Wagga Wagga</td>\n",
       "      <td>New South Wales</td>\n",
       "      <td>...</td>\n",
       "      <td>OFF-SU-10000618</td>\n",
       "      <td>Office Supplies</td>\n",
       "      <td>Supplies</td>\n",
       "      <td>Acme Trimmer, High Speed</td>\n",
       "      <td>120.366</td>\n",
       "      <td>3</td>\n",
       "      <td>0.1</td>\n",
       "      <td>36.0360</td>\n",
       "      <td>9.72</td>\n",
       "      <td>Medium</td>\n",
       "    </tr>\n",
       "    <tr>\n",
       "      <th>2</th>\n",
       "      <td>48883</td>\n",
       "      <td>HU-2011-1220</td>\n",
       "      <td>1/1/2011</td>\n",
       "      <td>5/1/2011</td>\n",
       "      <td>Second Class</td>\n",
       "      <td>AT-735</td>\n",
       "      <td>Annie Thurman</td>\n",
       "      <td>Consumer</td>\n",
       "      <td>Budapest</td>\n",
       "      <td>Budapest</td>\n",
       "      <td>...</td>\n",
       "      <td>OFF-TEN-10001585</td>\n",
       "      <td>Office Supplies</td>\n",
       "      <td>Storage</td>\n",
       "      <td>Tenex Box, Single Width</td>\n",
       "      <td>66.120</td>\n",
       "      <td>4</td>\n",
       "      <td>0.0</td>\n",
       "      <td>29.6400</td>\n",
       "      <td>8.17</td>\n",
       "      <td>High</td>\n",
       "    </tr>\n",
       "    <tr>\n",
       "      <th>3</th>\n",
       "      <td>11731</td>\n",
       "      <td>IT-2011-3647632</td>\n",
       "      <td>1/1/2011</td>\n",
       "      <td>5/1/2011</td>\n",
       "      <td>Second Class</td>\n",
       "      <td>EM-14140</td>\n",
       "      <td>Eugene Moren</td>\n",
       "      <td>Home Office</td>\n",
       "      <td>Stockholm</td>\n",
       "      <td>Stockholm</td>\n",
       "      <td>...</td>\n",
       "      <td>OFF-PA-10001492</td>\n",
       "      <td>Office Supplies</td>\n",
       "      <td>Paper</td>\n",
       "      <td>Enermax Note Cards, Premium</td>\n",
       "      <td>44.865</td>\n",
       "      <td>3</td>\n",
       "      <td>0.5</td>\n",
       "      <td>-26.0550</td>\n",
       "      <td>4.82</td>\n",
       "      <td>High</td>\n",
       "    </tr>\n",
       "    <tr>\n",
       "      <th>4</th>\n",
       "      <td>22255</td>\n",
       "      <td>IN-2011-47883</td>\n",
       "      <td>1/1/2011</td>\n",
       "      <td>8/1/2011</td>\n",
       "      <td>Standard Class</td>\n",
       "      <td>JH-15985</td>\n",
       "      <td>Joseph Holt</td>\n",
       "      <td>Consumer</td>\n",
       "      <td>Wagga Wagga</td>\n",
       "      <td>New South Wales</td>\n",
       "      <td>...</td>\n",
       "      <td>FUR-FU-10003447</td>\n",
       "      <td>Furniture</td>\n",
       "      <td>Furnishings</td>\n",
       "      <td>Eldon Light Bulb, Duo Pack</td>\n",
       "      <td>113.670</td>\n",
       "      <td>5</td>\n",
       "      <td>0.1</td>\n",
       "      <td>37.7700</td>\n",
       "      <td>4.70</td>\n",
       "      <td>Medium</td>\n",
       "    </tr>\n",
       "    <tr>\n",
       "      <th>...</th>\n",
       "      <td>...</td>\n",
       "      <td>...</td>\n",
       "      <td>...</td>\n",
       "      <td>...</td>\n",
       "      <td>...</td>\n",
       "      <td>...</td>\n",
       "      <td>...</td>\n",
       "      <td>...</td>\n",
       "      <td>...</td>\n",
       "      <td>...</td>\n",
       "      <td>...</td>\n",
       "      <td>...</td>\n",
       "      <td>...</td>\n",
       "      <td>...</td>\n",
       "      <td>...</td>\n",
       "      <td>...</td>\n",
       "      <td>...</td>\n",
       "      <td>...</td>\n",
       "      <td>...</td>\n",
       "      <td>...</td>\n",
       "      <td>...</td>\n",
       "    </tr>\n",
       "    <tr>\n",
       "      <th>51285</th>\n",
       "      <td>32593</td>\n",
       "      <td>CA-2014-115427</td>\n",
       "      <td>31-12-2014</td>\n",
       "      <td>4/1/2015</td>\n",
       "      <td>Standard Class</td>\n",
       "      <td>EB-13975</td>\n",
       "      <td>Erica Bern</td>\n",
       "      <td>Corporate</td>\n",
       "      <td>Fairfield</td>\n",
       "      <td>California</td>\n",
       "      <td>...</td>\n",
       "      <td>OFF-BI-10002103</td>\n",
       "      <td>Office Supplies</td>\n",
       "      <td>Binders</td>\n",
       "      <td>Cardinal Slant-D Ring Binder, Heavy Gauge Vinyl</td>\n",
       "      <td>13.904</td>\n",
       "      <td>2</td>\n",
       "      <td>0.2</td>\n",
       "      <td>4.5188</td>\n",
       "      <td>0.89</td>\n",
       "      <td>Medium</td>\n",
       "    </tr>\n",
       "    <tr>\n",
       "      <th>51286</th>\n",
       "      <td>47594</td>\n",
       "      <td>MO-2014-2560</td>\n",
       "      <td>31-12-2014</td>\n",
       "      <td>5/1/2015</td>\n",
       "      <td>Standard Class</td>\n",
       "      <td>LP-7095</td>\n",
       "      <td>Liz Preis</td>\n",
       "      <td>Consumer</td>\n",
       "      <td>Agadir</td>\n",
       "      <td>Souss-Massa-Draâ</td>\n",
       "      <td>...</td>\n",
       "      <td>OFF-WIL-10001069</td>\n",
       "      <td>Office Supplies</td>\n",
       "      <td>Binders</td>\n",
       "      <td>Wilson Jones Hole Reinforcements, Clear</td>\n",
       "      <td>3.990</td>\n",
       "      <td>1</td>\n",
       "      <td>0.0</td>\n",
       "      <td>0.4200</td>\n",
       "      <td>0.49</td>\n",
       "      <td>Medium</td>\n",
       "    </tr>\n",
       "    <tr>\n",
       "      <th>51287</th>\n",
       "      <td>8857</td>\n",
       "      <td>MX-2014-110527</td>\n",
       "      <td>31-12-2014</td>\n",
       "      <td>2/1/2015</td>\n",
       "      <td>Second Class</td>\n",
       "      <td>CM-12190</td>\n",
       "      <td>Charlotte Melton</td>\n",
       "      <td>Consumer</td>\n",
       "      <td>Managua</td>\n",
       "      <td>Managua</td>\n",
       "      <td>...</td>\n",
       "      <td>OFF-LA-10004182</td>\n",
       "      <td>Office Supplies</td>\n",
       "      <td>Labels</td>\n",
       "      <td>Hon Color Coded Labels, 5000 Label Set</td>\n",
       "      <td>26.400</td>\n",
       "      <td>3</td>\n",
       "      <td>0.0</td>\n",
       "      <td>12.3600</td>\n",
       "      <td>0.35</td>\n",
       "      <td>Medium</td>\n",
       "    </tr>\n",
       "    <tr>\n",
       "      <th>51288</th>\n",
       "      <td>6852</td>\n",
       "      <td>MX-2014-114783</td>\n",
       "      <td>31-12-2014</td>\n",
       "      <td>6/1/2015</td>\n",
       "      <td>Standard Class</td>\n",
       "      <td>TD-20995</td>\n",
       "      <td>Tamara Dahlen</td>\n",
       "      <td>Consumer</td>\n",
       "      <td>Juárez</td>\n",
       "      <td>Chihuahua</td>\n",
       "      <td>...</td>\n",
       "      <td>OFF-LA-10000413</td>\n",
       "      <td>Office Supplies</td>\n",
       "      <td>Labels</td>\n",
       "      <td>Hon Legal Exhibit Labels, Alphabetical</td>\n",
       "      <td>7.120</td>\n",
       "      <td>1</td>\n",
       "      <td>0.0</td>\n",
       "      <td>0.5600</td>\n",
       "      <td>0.20</td>\n",
       "      <td>Medium</td>\n",
       "    </tr>\n",
       "    <tr>\n",
       "      <th>51289</th>\n",
       "      <td>36388</td>\n",
       "      <td>CA-2014-156720</td>\n",
       "      <td>31-12-2014</td>\n",
       "      <td>4/1/2015</td>\n",
       "      <td>Standard Class</td>\n",
       "      <td>JM-15580</td>\n",
       "      <td>Jill Matthias</td>\n",
       "      <td>Consumer</td>\n",
       "      <td>Loveland</td>\n",
       "      <td>Colorado</td>\n",
       "      <td>...</td>\n",
       "      <td>OFF-FA-10003472</td>\n",
       "      <td>Office Supplies</td>\n",
       "      <td>Fasteners</td>\n",
       "      <td>Bagged Rubber Bands</td>\n",
       "      <td>3.024</td>\n",
       "      <td>3</td>\n",
       "      <td>0.2</td>\n",
       "      <td>-0.6048</td>\n",
       "      <td>0.17</td>\n",
       "      <td>Medium</td>\n",
       "    </tr>\n",
       "  </tbody>\n",
       "</table>\n",
       "<p>51290 rows × 24 columns</p>\n",
       "</div>"
      ],
      "text/plain": [
       "       Row ID         Order ID  Order Date Ship Date       Ship Mode  \\\n",
       "0       42433     AG-2011-2040    1/1/2011  6/1/2011  Standard Class   \n",
       "1       22253    IN-2011-47883    1/1/2011  8/1/2011  Standard Class   \n",
       "2       48883     HU-2011-1220    1/1/2011  5/1/2011    Second Class   \n",
       "3       11731  IT-2011-3647632    1/1/2011  5/1/2011    Second Class   \n",
       "4       22255    IN-2011-47883    1/1/2011  8/1/2011  Standard Class   \n",
       "...       ...              ...         ...       ...             ...   \n",
       "51285   32593   CA-2014-115427  31-12-2014  4/1/2015  Standard Class   \n",
       "51286   47594     MO-2014-2560  31-12-2014  5/1/2015  Standard Class   \n",
       "51287    8857   MX-2014-110527  31-12-2014  2/1/2015    Second Class   \n",
       "51288    6852   MX-2014-114783  31-12-2014  6/1/2015  Standard Class   \n",
       "51289   36388   CA-2014-156720  31-12-2014  4/1/2015  Standard Class   \n",
       "\n",
       "      Customer ID     Customer Name      Segment         City  \\\n",
       "0        TB-11280   Toby Braunhardt     Consumer  Constantine   \n",
       "1        JH-15985       Joseph Holt     Consumer  Wagga Wagga   \n",
       "2          AT-735     Annie Thurman     Consumer     Budapest   \n",
       "3        EM-14140      Eugene Moren  Home Office    Stockholm   \n",
       "4        JH-15985       Joseph Holt     Consumer  Wagga Wagga   \n",
       "...           ...               ...          ...          ...   \n",
       "51285    EB-13975        Erica Bern    Corporate    Fairfield   \n",
       "51286     LP-7095         Liz Preis     Consumer       Agadir   \n",
       "51287    CM-12190  Charlotte Melton     Consumer      Managua   \n",
       "51288    TD-20995     Tamara Dahlen     Consumer       Juárez   \n",
       "51289    JM-15580     Jill Matthias     Consumer     Loveland   \n",
       "\n",
       "                  State  ...        Product ID         Category Sub-Category  \\\n",
       "0           Constantine  ...  OFF-TEN-10000025  Office Supplies      Storage   \n",
       "1       New South Wales  ...   OFF-SU-10000618  Office Supplies     Supplies   \n",
       "2              Budapest  ...  OFF-TEN-10001585  Office Supplies      Storage   \n",
       "3             Stockholm  ...   OFF-PA-10001492  Office Supplies        Paper   \n",
       "4       New South Wales  ...   FUR-FU-10003447        Furniture  Furnishings   \n",
       "...                 ...  ...               ...              ...          ...   \n",
       "51285        California  ...   OFF-BI-10002103  Office Supplies      Binders   \n",
       "51286  Souss-Massa-Draâ  ...  OFF-WIL-10001069  Office Supplies      Binders   \n",
       "51287           Managua  ...   OFF-LA-10004182  Office Supplies       Labels   \n",
       "51288         Chihuahua  ...   OFF-LA-10000413  Office Supplies       Labels   \n",
       "51289          Colorado  ...   OFF-FA-10003472  Office Supplies    Fasteners   \n",
       "\n",
       "                                          Product Name    Sales Quantity  \\\n",
       "0                                  Tenex Lockers, Blue  408.300        2   \n",
       "1                             Acme Trimmer, High Speed  120.366        3   \n",
       "2                              Tenex Box, Single Width   66.120        4   \n",
       "3                          Enermax Note Cards, Premium   44.865        3   \n",
       "4                           Eldon Light Bulb, Duo Pack  113.670        5   \n",
       "...                                                ...      ...      ...   \n",
       "51285  Cardinal Slant-D Ring Binder, Heavy Gauge Vinyl   13.904        2   \n",
       "51286          Wilson Jones Hole Reinforcements, Clear    3.990        1   \n",
       "51287           Hon Color Coded Labels, 5000 Label Set   26.400        3   \n",
       "51288           Hon Legal Exhibit Labels, Alphabetical    7.120        1   \n",
       "51289                              Bagged Rubber Bands    3.024        3   \n",
       "\n",
       "      Discount    Profit  Shipping Cost  Order Priority  \n",
       "0          0.0  106.1400          35.46          Medium  \n",
       "1          0.1   36.0360           9.72          Medium  \n",
       "2          0.0   29.6400           8.17            High  \n",
       "3          0.5  -26.0550           4.82            High  \n",
       "4          0.1   37.7700           4.70          Medium  \n",
       "...        ...       ...            ...             ...  \n",
       "51285      0.2    4.5188           0.89          Medium  \n",
       "51286      0.0    0.4200           0.49          Medium  \n",
       "51287      0.0   12.3600           0.35          Medium  \n",
       "51288      0.0    0.5600           0.20          Medium  \n",
       "51289      0.2   -0.6048           0.17          Medium  \n",
       "\n",
       "[51290 rows x 24 columns]"
      ]
     },
     "execution_count": 29,
     "metadata": {},
     "output_type": "execute_result"
    }
   ],
   "source": [
    "# visualização da base para primeiras analises\n",
    "base_dados_do_teste"
   ]
  },
  {
   "cell_type": "markdown",
   "metadata": {},
   "source": [
    "## 1.5 Visualização das Culunas do DF"
   ]
  },
  {
   "cell_type": "code",
   "execution_count": 30,
   "metadata": {},
   "outputs": [
    {
     "data": {
      "text/plain": [
       "Index(['Row ID', 'Order ID', 'Order Date', 'Ship Date', 'Ship Mode',\n",
       "       'Customer ID', 'Customer Name', 'Segment', 'City', 'State', 'Country',\n",
       "       'Postal Code', 'Market', 'Region', 'Product ID', 'Category',\n",
       "       'Sub-Category', 'Product Name', 'Sales', 'Quantity', 'Discount',\n",
       "       'Profit', 'Shipping Cost', 'Order Priority'],\n",
       "      dtype='object')"
      ]
     },
     "execution_count": 30,
     "metadata": {},
     "output_type": "execute_result"
    }
   ],
   "source": [
    "# visualização das colunas do df do teste \n",
    "base_dados_do_teste.columns"
   ]
  },
  {
   "cell_type": "markdown",
   "metadata": {},
   "source": [
    "# 2 Limpeza dos Dados -> Iniciando a limpeza dos dados -> Objetivo: Valores nulos, Dados inconsistentes e Dados duplicados "
   ]
  },
  {
   "cell_type": "markdown",
   "metadata": {},
   "source": [
    "## 2.1 Tradução das Colunas "
   ]
  },
  {
   "cell_type": "code",
   "execution_count": 31,
   "metadata": {},
   "outputs": [
    {
     "data": {
      "text/plain": [
       "Index(['ID da Linha', 'ID do Pedido', 'Data do Pedido', 'Data de Envio',\n",
       "       'Modalidade de Envio', 'ID do Cliente', 'Nome do Cliente', 'Segmento',\n",
       "       'Cidade', 'Estado', 'País', 'Código Postal', 'Mercado', 'Região',\n",
       "       'ID do Produto', 'Categoria', 'Subcategoria', 'Nome do Produto',\n",
       "       'Vendas', 'Quantidade', 'Desconto', 'Lucro', 'Custo de Envio',\n",
       "       'Prioridade do Pedido'],\n",
       "      dtype='object')"
      ]
     },
     "execution_count": 31,
     "metadata": {},
     "output_type": "execute_result"
    }
   ],
   "source": [
    "# tradução das colunas para facilitar analise \n",
    "base_dados_do_teste = base_dados_do_teste.rename(columns={\n",
    "    'Row ID': 'ID da Linha',\n",
    "    'Order ID': 'ID do Pedido',\n",
    "    'Order Date': 'Data do Pedido',\n",
    "    'Ship Date': 'Data de Envio',\n",
    "    'Ship Mode': 'Modalidade de Envio',\n",
    "    'Customer ID': 'ID do Cliente',\n",
    "    'Customer Name': 'Nome do Cliente',\n",
    "    'Segment': 'Segmento',\n",
    "    'City': 'Cidade',\n",
    "    'State': 'Estado',\n",
    "    'Country': 'País',\n",
    "    'Postal Code': 'Código Postal',\n",
    "    'Market': 'Mercado',\n",
    "    'Region': 'Região',\n",
    "    'Product ID': 'ID do Produto',\n",
    "    'Category': 'Categoria',\n",
    "    'Sub-Category': 'Subcategoria',\n",
    "    'Product Name': 'Nome do Produto',\n",
    "    'Sales': 'Vendas',\n",
    "    'Quantity': 'Quantidade',\n",
    "    'Discount': 'Desconto',\n",
    "    'Profit': 'Lucro',\n",
    "    'Shipping Cost': 'Custo de Envio',\n",
    "    'Order Priority': 'Prioridade do Pedido'\n",
    "})\n",
    "\n",
    "base_dados_do_teste.columns\n"
   ]
  },
  {
   "cell_type": "markdown",
   "metadata": {},
   "source": [
    "## 2.2 Ultilizando describe() para ter uma noção inicial Eatatistica do DF"
   ]
  },
  {
   "cell_type": "code",
   "execution_count": 32,
   "metadata": {},
   "outputs": [
    {
     "data": {
      "text/html": [
       "<div>\n",
       "<style scoped>\n",
       "    .dataframe tbody tr th:only-of-type {\n",
       "        vertical-align: middle;\n",
       "    }\n",
       "\n",
       "    .dataframe tbody tr th {\n",
       "        vertical-align: top;\n",
       "    }\n",
       "\n",
       "    .dataframe thead th {\n",
       "        text-align: right;\n",
       "    }\n",
       "</style>\n",
       "<table border=\"1\" class=\"dataframe\">\n",
       "  <thead>\n",
       "    <tr style=\"text-align: right;\">\n",
       "      <th></th>\n",
       "      <th>ID da Linha</th>\n",
       "      <th>Código Postal</th>\n",
       "      <th>Vendas</th>\n",
       "      <th>Quantidade</th>\n",
       "      <th>Desconto</th>\n",
       "      <th>Lucro</th>\n",
       "      <th>Custo de Envio</th>\n",
       "    </tr>\n",
       "  </thead>\n",
       "  <tbody>\n",
       "    <tr>\n",
       "      <th>count</th>\n",
       "      <td>51290.00000</td>\n",
       "      <td>9994.000000</td>\n",
       "      <td>51290.000000</td>\n",
       "      <td>51290.000000</td>\n",
       "      <td>51290.000000</td>\n",
       "      <td>51290.000000</td>\n",
       "      <td>51290.000000</td>\n",
       "    </tr>\n",
       "    <tr>\n",
       "      <th>mean</th>\n",
       "      <td>25645.50000</td>\n",
       "      <td>55190.379428</td>\n",
       "      <td>246.490581</td>\n",
       "      <td>3.476545</td>\n",
       "      <td>0.142908</td>\n",
       "      <td>28.610982</td>\n",
       "      <td>26.375915</td>\n",
       "    </tr>\n",
       "    <tr>\n",
       "      <th>std</th>\n",
       "      <td>14806.29199</td>\n",
       "      <td>32063.693350</td>\n",
       "      <td>487.565361</td>\n",
       "      <td>2.278766</td>\n",
       "      <td>0.212280</td>\n",
       "      <td>174.340972</td>\n",
       "      <td>57.296804</td>\n",
       "    </tr>\n",
       "    <tr>\n",
       "      <th>min</th>\n",
       "      <td>1.00000</td>\n",
       "      <td>1040.000000</td>\n",
       "      <td>0.444000</td>\n",
       "      <td>1.000000</td>\n",
       "      <td>0.000000</td>\n",
       "      <td>-6599.978000</td>\n",
       "      <td>0.000000</td>\n",
       "    </tr>\n",
       "    <tr>\n",
       "      <th>25%</th>\n",
       "      <td>12823.25000</td>\n",
       "      <td>23223.000000</td>\n",
       "      <td>30.758625</td>\n",
       "      <td>2.000000</td>\n",
       "      <td>0.000000</td>\n",
       "      <td>0.000000</td>\n",
       "      <td>2.610000</td>\n",
       "    </tr>\n",
       "    <tr>\n",
       "      <th>50%</th>\n",
       "      <td>25645.50000</td>\n",
       "      <td>56430.500000</td>\n",
       "      <td>85.053000</td>\n",
       "      <td>3.000000</td>\n",
       "      <td>0.000000</td>\n",
       "      <td>9.240000</td>\n",
       "      <td>7.790000</td>\n",
       "    </tr>\n",
       "    <tr>\n",
       "      <th>75%</th>\n",
       "      <td>38467.75000</td>\n",
       "      <td>90008.000000</td>\n",
       "      <td>251.053200</td>\n",
       "      <td>5.000000</td>\n",
       "      <td>0.200000</td>\n",
       "      <td>36.810000</td>\n",
       "      <td>24.450000</td>\n",
       "    </tr>\n",
       "    <tr>\n",
       "      <th>max</th>\n",
       "      <td>51290.00000</td>\n",
       "      <td>99301.000000</td>\n",
       "      <td>22638.480000</td>\n",
       "      <td>14.000000</td>\n",
       "      <td>0.850000</td>\n",
       "      <td>8399.976000</td>\n",
       "      <td>933.570000</td>\n",
       "    </tr>\n",
       "  </tbody>\n",
       "</table>\n",
       "</div>"
      ],
      "text/plain": [
       "       ID da Linha  Código Postal        Vendas    Quantidade      Desconto  \\\n",
       "count  51290.00000    9994.000000  51290.000000  51290.000000  51290.000000   \n",
       "mean   25645.50000   55190.379428    246.490581      3.476545      0.142908   \n",
       "std    14806.29199   32063.693350    487.565361      2.278766      0.212280   \n",
       "min        1.00000    1040.000000      0.444000      1.000000      0.000000   \n",
       "25%    12823.25000   23223.000000     30.758625      2.000000      0.000000   \n",
       "50%    25645.50000   56430.500000     85.053000      3.000000      0.000000   \n",
       "75%    38467.75000   90008.000000    251.053200      5.000000      0.200000   \n",
       "max    51290.00000   99301.000000  22638.480000     14.000000      0.850000   \n",
       "\n",
       "              Lucro  Custo de Envio  \n",
       "count  51290.000000    51290.000000  \n",
       "mean      28.610982       26.375915  \n",
       "std      174.340972       57.296804  \n",
       "min    -6599.978000        0.000000  \n",
       "25%        0.000000        2.610000  \n",
       "50%        9.240000        7.790000  \n",
       "75%       36.810000       24.450000  \n",
       "max     8399.976000      933.570000  "
      ]
     },
     "execution_count": 32,
     "metadata": {},
     "output_type": "execute_result"
    }
   ],
   "source": [
    "# ultilizando describe() para ter uma noção inicial do df obs: futuras comparações \n",
    "base_dados_do_teste.describe()"
   ]
  },
  {
   "cell_type": "markdown",
   "metadata": {},
   "source": [
    "## 2.3 Buscando Valores nulos"
   ]
  },
  {
   "cell_type": "code",
   "execution_count": 33,
   "metadata": {},
   "outputs": [
    {
     "data": {
      "text/plain": [
       "ID da Linha                 0\n",
       "ID do Pedido                0\n",
       "Data do Pedido              0\n",
       "Data de Envio               0\n",
       "Modalidade de Envio         0\n",
       "ID do Cliente               0\n",
       "Nome do Cliente             0\n",
       "Segmento                    0\n",
       "Cidade                      0\n",
       "Estado                      0\n",
       "País                        0\n",
       "Código Postal           41296\n",
       "Mercado                     0\n",
       "Região                      0\n",
       "ID do Produto               0\n",
       "Categoria                   0\n",
       "Subcategoria                0\n",
       "Nome do Produto             0\n",
       "Vendas                      0\n",
       "Quantidade                  0\n",
       "Desconto                    0\n",
       "Lucro                       0\n",
       "Custo de Envio              0\n",
       "Prioridade do Pedido        0\n",
       "dtype: int64"
      ]
     },
     "execution_count": 33,
     "metadata": {},
     "output_type": "execute_result"
    }
   ],
   "source": [
    "# verificando a qtd de valores nulos em cada coluna\n",
    "base_dados_do_teste.isnull().sum()"
   ]
  },
  {
   "cell_type": "markdown",
   "metadata": {},
   "source": [
    "## 2.4 Número de Linhas do DF"
   ]
  },
  {
   "cell_type": "code",
   "execution_count": 34,
   "metadata": {},
   "outputs": [
    {
     "name": "stdout",
     "output_type": "stream",
     "text": [
      "51290\n"
     ]
    }
   ],
   "source": [
    "numero_linhas = base_dados_do_teste.shape[0]\n",
    "print(numero_linhas)"
   ]
  },
  {
   "cell_type": "markdown",
   "metadata": {},
   "source": [
    "## 2.5 Número de Linhas Nulas"
   ]
  },
  {
   "cell_type": "code",
   "execution_count": 35,
   "metadata": {},
   "outputs": [],
   "source": [
    "nulos_codigo_postal = base_dados_do_teste['Código Postal'].isnull().sum()"
   ]
  },
  {
   "cell_type": "code",
   "execution_count": 36,
   "metadata": {},
   "outputs": [
    {
     "name": "stdout",
     "output_type": "stream",
     "text": [
      "0            NaN\n",
      "1            NaN\n",
      "2            NaN\n",
      "3            NaN\n",
      "4            NaN\n",
      "          ...   \n",
      "51285    94533.0\n",
      "51286        NaN\n",
      "51287        NaN\n",
      "51288        NaN\n",
      "51289    80538.0\n",
      "Name: Código Postal, Length: 51290, dtype: float64\n"
     ]
    }
   ],
   "source": [
    "# observação da coluna \n",
    "print(base_dados_do_teste['Código Postal'])"
   ]
  },
  {
   "cell_type": "markdown",
   "metadata": {},
   "source": [
    "## 2.6 Verificando a Porcentagem de Valores Nulos em Referência ao Total de Linhas\n"
   ]
  },
  {
   "cell_type": "code",
   "execution_count": 37,
   "metadata": {},
   "outputs": [
    {
     "name": "stdout",
     "output_type": "stream",
     "text": [
      "80.51472021836615\n"
     ]
    }
   ],
   "source": [
    "# verificando a % de valores nulos na coluna codigo posta em referência ao total de linhas\n",
    "#  obs: analise de possivél drop da coluna\n",
    "porcentagem_de_nulos = (nulos_codigo_postal / numero_linhas) * 100\n",
    "print(porcentagem_de_nulos)"
   ]
  },
  {
   "cell_type": "markdown",
   "metadata": {},
   "source": [
    "## OBS: A coluna 'Código Postal' foi excluída devido à alta proporção de valores nulos e à redundância com outras variáveis geográficas como Estado, Cidade e País, que oferecem informações suficientes para a análise"
   ]
  },
  {
   "cell_type": "markdown",
   "metadata": {},
   "source": [
    "## 2.7 Exclusão Da Coluna de Nulos"
   ]
  },
  {
   "cell_type": "code",
   "execution_count": 38,
   "metadata": {},
   "outputs": [],
   "source": [
    "base_dados_do_teste.drop('Código Postal', axis=1, inplace=True)"
   ]
  },
  {
   "cell_type": "code",
   "execution_count": 39,
   "metadata": {},
   "outputs": [
    {
     "data": {
      "text/plain": [
       "Index(['ID da Linha', 'ID do Pedido', 'Data do Pedido', 'Data de Envio',\n",
       "       'Modalidade de Envio', 'ID do Cliente', 'Nome do Cliente', 'Segmento',\n",
       "       'Cidade', 'Estado', 'País', 'Mercado', 'Região', 'ID do Produto',\n",
       "       'Categoria', 'Subcategoria', 'Nome do Produto', 'Vendas', 'Quantidade',\n",
       "       'Desconto', 'Lucro', 'Custo de Envio', 'Prioridade do Pedido'],\n",
       "      dtype='object')"
      ]
     },
     "execution_count": 39,
     "metadata": {},
     "output_type": "execute_result"
    }
   ],
   "source": [
    "base_dados_do_teste.columns"
   ]
  },
  {
   "cell_type": "code",
   "execution_count": 40,
   "metadata": {},
   "outputs": [
    {
     "data": {
      "text/plain": [
       "ID da Linha             0\n",
       "ID do Pedido            0\n",
       "Data do Pedido          0\n",
       "Data de Envio           0\n",
       "Modalidade de Envio     0\n",
       "ID do Cliente           0\n",
       "Nome do Cliente         0\n",
       "Segmento                0\n",
       "Cidade                  0\n",
       "Estado                  0\n",
       "País                    0\n",
       "Mercado                 0\n",
       "Região                  0\n",
       "ID do Produto           0\n",
       "Categoria               0\n",
       "Subcategoria            0\n",
       "Nome do Produto         0\n",
       "Vendas                  0\n",
       "Quantidade              0\n",
       "Desconto                0\n",
       "Lucro                   0\n",
       "Custo de Envio          0\n",
       "Prioridade do Pedido    0\n",
       "dtype: int64"
      ]
     },
     "execution_count": 40,
     "metadata": {},
     "output_type": "execute_result"
    }
   ],
   "source": [
    "#  confirmando nulos na nova base sem a coluna codigo postal\n",
    "base_dados_do_teste.isnull().sum()"
   ]
  },
  {
   "cell_type": "markdown",
   "metadata": {},
   "source": [
    "## 2.7 Verificando Tipos de Dados"
   ]
  },
  {
   "cell_type": "code",
   "execution_count": 41,
   "metadata": {},
   "outputs": [
    {
     "name": "stdout",
     "output_type": "stream",
     "text": [
      "<class 'pandas.core.frame.DataFrame'>\n",
      "RangeIndex: 51290 entries, 0 to 51289\n",
      "Data columns (total 23 columns):\n",
      " #   Column                Non-Null Count  Dtype  \n",
      "---  ------                --------------  -----  \n",
      " 0   ID da Linha           51290 non-null  int64  \n",
      " 1   ID do Pedido          51290 non-null  object \n",
      " 2   Data do Pedido        51290 non-null  object \n",
      " 3   Data de Envio         51290 non-null  object \n",
      " 4   Modalidade de Envio   51290 non-null  object \n",
      " 5   ID do Cliente         51290 non-null  object \n",
      " 6   Nome do Cliente       51290 non-null  object \n",
      " 7   Segmento              51290 non-null  object \n",
      " 8   Cidade                51290 non-null  object \n",
      " 9   Estado                51290 non-null  object \n",
      " 10  País                  51290 non-null  object \n",
      " 11  Mercado               51290 non-null  object \n",
      " 12  Região                51290 non-null  object \n",
      " 13  ID do Produto         51290 non-null  object \n",
      " 14  Categoria             51290 non-null  object \n",
      " 15  Subcategoria          51290 non-null  object \n",
      " 16  Nome do Produto       51290 non-null  object \n",
      " 17  Vendas                51290 non-null  float64\n",
      " 18  Quantidade            51290 non-null  int64  \n",
      " 19  Desconto              51290 non-null  float64\n",
      " 20  Lucro                 51290 non-null  float64\n",
      " 21  Custo de Envio        51290 non-null  float64\n",
      " 22  Prioridade do Pedido  51290 non-null  object \n",
      "dtypes: float64(4), int64(2), object(17)\n",
      "memory usage: 9.0+ MB\n"
     ]
    }
   ],
   "source": [
    "base_dados_do_teste.info()"
   ]
  },
  {
   "cell_type": "markdown",
   "metadata": {},
   "source": [
    "## 2.8 Convertendo Dados Objetos para Data"
   ]
  },
  {
   "cell_type": "code",
   "execution_count": 42,
   "metadata": {},
   "outputs": [
    {
     "name": "stdout",
     "output_type": "stream",
     "text": [
      "20067    13-01-2011\n",
      "20068    13-01-2011\n",
      "20069    13-01-2011\n",
      "20070    13-01-2011\n",
      "20071    13-01-2011\n",
      "            ...    \n",
      "51285    31-12-2014\n",
      "51286    31-12-2014\n",
      "51287    31-12-2014\n",
      "51288    31-12-2014\n",
      "51289    31-12-2014\n",
      "Name: Data do Pedido, Length: 31223, dtype: object\n"
     ]
    }
   ],
   "source": [
    "# encontrar valores NÃO são convertidos para datetime\n",
    "datas_invalidas = base_dados_do_teste[~pd.to_datetime(base_dados_do_teste['Data do Pedido'], dayfirst=True, errors='coerce').notna()]\n",
    "\n",
    "print(datas_invalidas['Data do Pedido'])\n"
   ]
  },
  {
   "cell_type": "code",
   "execution_count": 43,
   "metadata": {},
   "outputs": [],
   "source": [
    "base_dados_do_teste['Data do Pedido'] = pd.to_datetime(base_dados_do_teste['Data do Pedido'], format='%d-%m-%Y', errors='coerce')\n",
    "base_dados_do_teste['Data de Envio'] = pd.to_datetime(base_dados_do_teste['Data de Envio'], format='%d-%m-%Y', errors='coerce')\n"
   ]
  },
  {
   "cell_type": "code",
   "execution_count": 44,
   "metadata": {},
   "outputs": [
    {
     "name": "stdout",
     "output_type": "stream",
     "text": [
      "<class 'pandas.core.frame.DataFrame'>\n",
      "RangeIndex: 51290 entries, 0 to 51289\n",
      "Data columns (total 23 columns):\n",
      " #   Column                Non-Null Count  Dtype         \n",
      "---  ------                --------------  -----         \n",
      " 0   ID da Linha           51290 non-null  int64         \n",
      " 1   ID do Pedido          51290 non-null  object        \n",
      " 2   Data do Pedido        31223 non-null  datetime64[ns]\n",
      " 3   Data de Envio         31456 non-null  datetime64[ns]\n",
      " 4   Modalidade de Envio   51290 non-null  object        \n",
      " 5   ID do Cliente         51290 non-null  object        \n",
      " 6   Nome do Cliente       51290 non-null  object        \n",
      " 7   Segmento              51290 non-null  object        \n",
      " 8   Cidade                51290 non-null  object        \n",
      " 9   Estado                51290 non-null  object        \n",
      " 10  País                  51290 non-null  object        \n",
      " 11  Mercado               51290 non-null  object        \n",
      " 12  Região                51290 non-null  object        \n",
      " 13  ID do Produto         51290 non-null  object        \n",
      " 14  Categoria             51290 non-null  object        \n",
      " 15  Subcategoria          51290 non-null  object        \n",
      " 16  Nome do Produto       51290 non-null  object        \n",
      " 17  Vendas                51290 non-null  float64       \n",
      " 18  Quantidade            51290 non-null  int64         \n",
      " 19  Desconto              51290 non-null  float64       \n",
      " 20  Lucro                 51290 non-null  float64       \n",
      " 21  Custo de Envio        51290 non-null  float64       \n",
      " 22  Prioridade do Pedido  51290 non-null  object        \n",
      "dtypes: datetime64[ns](2), float64(4), int64(2), object(15)\n",
      "memory usage: 9.0+ MB\n"
     ]
    }
   ],
   "source": [
    "base_dados_do_teste.info()"
   ]
  },
  {
   "cell_type": "markdown",
   "metadata": {},
   "source": [
    "## 2.9 Vereficando Dados Duplicados"
   ]
  },
  {
   "cell_type": "code",
   "execution_count": 45,
   "metadata": {},
   "outputs": [
    {
     "data": {
      "text/plain": [
       "0"
      ]
     },
     "execution_count": 45,
     "metadata": {},
     "output_type": "execute_result"
    }
   ],
   "source": [
    "# dados duplicados Não encontrado\n",
    "base_dados_do_teste.duplicated().sum()\n"
   ]
  },
  {
   "cell_type": "markdown",
   "metadata": {},
   "source": [
    "## obs: sem dados duplicados"
   ]
  },
  {
   "cell_type": "markdown",
   "metadata": {},
   "source": [
    "# 3.1 Iniciando Análise Exploratória (importando bibliotecas)"
   ]
  },
  {
   "cell_type": "code",
   "execution_count": null,
   "metadata": {},
   "outputs": [],
   "source": [
    "import matplotlib.pyplot as plt  # mais controle dos graficos\n",
    "import seaborn as sns # gráficos mais modernos"
   ]
  },
  {
   "cell_type": "markdown",
   "metadata": {},
   "source": [
    "## 3.2 Agrupando por Produto e Top 10 Mais Vendidos "
   ]
  },
  {
   "cell_type": "code",
   "execution_count": null,
   "metadata": {},
   "outputs": [],
   "source": [
    "# agrupando e somando as vendas\n",
    "top_produtos = base_dados_do_teste.groupby('Nome do Produto')['Vendas'].sum().sort_values(ascending=False).head(10)"
   ]
  },
  {
   "cell_type": "code",
   "execution_count": 53,
   "metadata": {},
   "outputs": [
    {
     "data": {
      "text/plain": [
       "<Axes: title={'center': 'Top 10 Produtos Mais Vendidos'}, ylabel='Nome do Produto'>"
      ]
     },
     "execution_count": 53,
     "metadata": {},
     "output_type": "execute_result"
    },
    {
     "data": {
      "image/png": "[encoded data removed]",
      "text/plain": [
       "<Figure size 640x480 with 1 Axes>"
      ]
     },
     "metadata": {},
     "output_type": "display_data"
    }
   ],
   "source": [
    "top_produtos.sort_values(ascending=True).plot(kind='barh', title='Top 10 Produtos Mais Vendidos')"
   ]
  }
 ],
 "metadata": {
  "kernelspec": {
   "display_name": "base",
   "language": "python",
   "name": "python3"
  },
  "language_info": {
   "codemirror_mode": {
    "name": "ipython",
    "version": 3
   },
   "file_extension": ".py",
   "mimetype": "text/x-python",
   "name": "python",
   "nbconvert_exporter": "python",
   "pygments_lexer": "ipython3",
   "version": "3.12.7"
  }
 },
 "nbformat": 4,
 "nbformat_minor": 2
}
