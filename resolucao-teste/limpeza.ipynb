{
 "cells": [
  {
   "cell_type": "markdown",
   "metadata": {},
   "source": [
    "# Projeto de Análise de Vendas - Desafio Técnico\n",
    "\n",
    "1. Extração dos Dados \n",
    "\n",
    "2. Limpeza dos Dados \n",
    "\n",
    "3. Análise Exploratória com Visualização de Dados\n",
    "\n"
   ]
  },
  {
   "cell_type": "markdown",
   "metadata": {},
   "source": [
    "## 1. Extração dos Dados"
   ]
  },
  {
   "cell_type": "code",
   "execution_count": 1,
   "metadata": {},
   "outputs": [],
   "source": [
    "# importação do base de dados diretamente do git hub do teste \n",
    "import requests\n",
    "import pandas as pd\n",
    "url = 'https://raw.githubusercontent.com/fabiopimentel21/desafio-fadesp-processo-seletivo/master/data/dataset_desafio_fadesp.csv'\n",
    "base_dados_do_teste = pd.read_csv(url, encoding='latin1') # foi encontrado uma dificuldade na leitura do arquivo -> latin-1 ou ISO-8859-1, comum em arquivos em português (por causa dos acentos)"
   ]
  },
  {
   "cell_type": "markdown",
   "metadata": {},
   "source": [
    "## 1.2 Extração da Base de Metadados"
   ]
  },
  {
   "cell_type": "code",
   "execution_count": 2,
   "metadata": {},
   "outputs": [],
   "source": [
    "# importação dos metadados para analise da base completa obs: foi indentificado que na base não se encontrava a nomeclatura de toda a base \n",
    "metadados_do_teste = pd.read_excel(r'C:\\RPA\\desafio_projetos\\desafio_fadesp\\desafio-fadesp-processo-seletivo\\metadata.xlsx')"
   ]
  },
  {
   "cell_type": "markdown",
   "metadata": {},
   "source": [
    "## 1.3 Visualização dos Metadados"
   ]
  },
  {
   "cell_type": "code",
   "execution_count": 3,
   "metadata": {},
   "outputs": [
    {
     "data": {
      "text/html": [
       "<div>\n",
       "<style scoped>\n",
       "    .dataframe tbody tr th:only-of-type {\n",
       "        vertical-align: middle;\n",
       "    }\n",
       "\n",
       "    .dataframe tbody tr th {\n",
       "        vertical-align: top;\n",
       "    }\n",
       "\n",
       "    .dataframe thead th {\n",
       "        text-align: right;\n",
       "    }\n",
       "</style>\n",
       "<table border=\"1\" class=\"dataframe\">\n",
       "  <thead>\n",
       "    <tr style=\"text-align: right;\">\n",
       "      <th></th>\n",
       "      <th>Coluna</th>\n",
       "      <th>Descrição</th>\n",
       "    </tr>\n",
       "  </thead>\n",
       "  <tbody>\n",
       "    <tr>\n",
       "      <th>0</th>\n",
       "      <td>Row ID</td>\n",
       "      <td>ID do registro</td>\n",
       "    </tr>\n",
       "    <tr>\n",
       "      <th>1</th>\n",
       "      <td>Order ID</td>\n",
       "      <td>Identificação do pedido</td>\n",
       "    </tr>\n",
       "    <tr>\n",
       "      <th>2</th>\n",
       "      <td>Order Date</td>\n",
       "      <td>Data do pedido</td>\n",
       "    </tr>\n",
       "    <tr>\n",
       "      <th>3</th>\n",
       "      <td>Ship Date</td>\n",
       "      <td>Data de envio do pedido</td>\n",
       "    </tr>\n",
       "    <tr>\n",
       "      <th>4</th>\n",
       "      <td>Ship Mode</td>\n",
       "      <td>Modo de envio do pedido</td>\n",
       "    </tr>\n",
       "  </tbody>\n",
       "</table>\n",
       "</div>"
      ],
      "text/plain": [
       "       Coluna                Descrição\n",
       "0      Row ID           ID do registro\n",
       "1    Order ID  Identificação do pedido\n",
       "2  Order Date           Data do pedido\n",
       "3  Ship Date   Data de envio do pedido\n",
       "4  Ship Mode   Modo de envio do pedido"
      ]
     },
     "execution_count": 3,
     "metadata": {},
     "output_type": "execute_result"
    }
   ],
   "source": [
    "#visualizando metadados\n",
    "metadados_do_teste.head()\n"
   ]
  },
  {
   "cell_type": "markdown",
   "metadata": {},
   "source": [
    "## 1.4 Visualização da Base de Vendas"
   ]
  },
  {
   "cell_type": "code",
   "execution_count": 4,
   "metadata": {},
   "outputs": [
    {
     "data": {
      "text/html": [
       "<div>\n",
       "<style scoped>\n",
       "    .dataframe tbody tr th:only-of-type {\n",
       "        vertical-align: middle;\n",
       "    }\n",
       "\n",
       "    .dataframe tbody tr th {\n",
       "        vertical-align: top;\n",
       "    }\n",
       "\n",
       "    .dataframe thead th {\n",
       "        text-align: right;\n",
       "    }\n",
       "</style>\n",
       "<table border=\"1\" class=\"dataframe\">\n",
       "  <thead>\n",
       "    <tr style=\"text-align: right;\">\n",
       "      <th></th>\n",
       "      <th>Row ID</th>\n",
       "      <th>Order ID</th>\n",
       "      <th>Order Date</th>\n",
       "      <th>Ship Date</th>\n",
       "      <th>Ship Mode</th>\n",
       "      <th>Customer ID</th>\n",
       "      <th>Customer Name</th>\n",
       "      <th>Segment</th>\n",
       "      <th>City</th>\n",
       "      <th>State</th>\n",
       "      <th>...</th>\n",
       "      <th>Product ID</th>\n",
       "      <th>Category</th>\n",
       "      <th>Sub-Category</th>\n",
       "      <th>Product Name</th>\n",
       "      <th>Sales</th>\n",
       "      <th>Quantity</th>\n",
       "      <th>Discount</th>\n",
       "      <th>Profit</th>\n",
       "      <th>Shipping Cost</th>\n",
       "      <th>Order Priority</th>\n",
       "    </tr>\n",
       "  </thead>\n",
       "  <tbody>\n",
       "    <tr>\n",
       "      <th>0</th>\n",
       "      <td>42433</td>\n",
       "      <td>AG-2011-2040</td>\n",
       "      <td>1/1/2011</td>\n",
       "      <td>6/1/2011</td>\n",
       "      <td>Standard Class</td>\n",
       "      <td>TB-11280</td>\n",
       "      <td>Toby Braunhardt</td>\n",
       "      <td>Consumer</td>\n",
       "      <td>Constantine</td>\n",
       "      <td>Constantine</td>\n",
       "      <td>...</td>\n",
       "      <td>OFF-TEN-10000025</td>\n",
       "      <td>Office Supplies</td>\n",
       "      <td>Storage</td>\n",
       "      <td>Tenex Lockers, Blue</td>\n",
       "      <td>408.300</td>\n",
       "      <td>2</td>\n",
       "      <td>0.0</td>\n",
       "      <td>106.1400</td>\n",
       "      <td>35.46</td>\n",
       "      <td>Medium</td>\n",
       "    </tr>\n",
       "    <tr>\n",
       "      <th>1</th>\n",
       "      <td>22253</td>\n",
       "      <td>IN-2011-47883</td>\n",
       "      <td>1/1/2011</td>\n",
       "      <td>8/1/2011</td>\n",
       "      <td>Standard Class</td>\n",
       "      <td>JH-15985</td>\n",
       "      <td>Joseph Holt</td>\n",
       "      <td>Consumer</td>\n",
       "      <td>Wagga Wagga</td>\n",
       "      <td>New South Wales</td>\n",
       "      <td>...</td>\n",
       "      <td>OFF-SU-10000618</td>\n",
       "      <td>Office Supplies</td>\n",
       "      <td>Supplies</td>\n",
       "      <td>Acme Trimmer, High Speed</td>\n",
       "      <td>120.366</td>\n",
       "      <td>3</td>\n",
       "      <td>0.1</td>\n",
       "      <td>36.0360</td>\n",
       "      <td>9.72</td>\n",
       "      <td>Medium</td>\n",
       "    </tr>\n",
       "    <tr>\n",
       "      <th>2</th>\n",
       "      <td>48883</td>\n",
       "      <td>HU-2011-1220</td>\n",
       "      <td>1/1/2011</td>\n",
       "      <td>5/1/2011</td>\n",
       "      <td>Second Class</td>\n",
       "      <td>AT-735</td>\n",
       "      <td>Annie Thurman</td>\n",
       "      <td>Consumer</td>\n",
       "      <td>Budapest</td>\n",
       "      <td>Budapest</td>\n",
       "      <td>...</td>\n",
       "      <td>OFF-TEN-10001585</td>\n",
       "      <td>Office Supplies</td>\n",
       "      <td>Storage</td>\n",
       "      <td>Tenex Box, Single Width</td>\n",
       "      <td>66.120</td>\n",
       "      <td>4</td>\n",
       "      <td>0.0</td>\n",
       "      <td>29.6400</td>\n",
       "      <td>8.17</td>\n",
       "      <td>High</td>\n",
       "    </tr>\n",
       "    <tr>\n",
       "      <th>3</th>\n",
       "      <td>11731</td>\n",
       "      <td>IT-2011-3647632</td>\n",
       "      <td>1/1/2011</td>\n",
       "      <td>5/1/2011</td>\n",
       "      <td>Second Class</td>\n",
       "      <td>EM-14140</td>\n",
       "      <td>Eugene Moren</td>\n",
       "      <td>Home Office</td>\n",
       "      <td>Stockholm</td>\n",
       "      <td>Stockholm</td>\n",
       "      <td>...</td>\n",
       "      <td>OFF-PA-10001492</td>\n",
       "      <td>Office Supplies</td>\n",
       "      <td>Paper</td>\n",
       "      <td>Enermax Note Cards, Premium</td>\n",
       "      <td>44.865</td>\n",
       "      <td>3</td>\n",
       "      <td>0.5</td>\n",
       "      <td>-26.0550</td>\n",
       "      <td>4.82</td>\n",
       "      <td>High</td>\n",
       "    </tr>\n",
       "    <tr>\n",
       "      <th>4</th>\n",
       "      <td>22255</td>\n",
       "      <td>IN-2011-47883</td>\n",
       "      <td>1/1/2011</td>\n",
       "      <td>8/1/2011</td>\n",
       "      <td>Standard Class</td>\n",
       "      <td>JH-15985</td>\n",
       "      <td>Joseph Holt</td>\n",
       "      <td>Consumer</td>\n",
       "      <td>Wagga Wagga</td>\n",
       "      <td>New South Wales</td>\n",
       "      <td>...</td>\n",
       "      <td>FUR-FU-10003447</td>\n",
       "      <td>Furniture</td>\n",
       "      <td>Furnishings</td>\n",
       "      <td>Eldon Light Bulb, Duo Pack</td>\n",
       "      <td>113.670</td>\n",
       "      <td>5</td>\n",
       "      <td>0.1</td>\n",
       "      <td>37.7700</td>\n",
       "      <td>4.70</td>\n",
       "      <td>Medium</td>\n",
       "    </tr>\n",
       "    <tr>\n",
       "      <th>...</th>\n",
       "      <td>...</td>\n",
       "      <td>...</td>\n",
       "      <td>...</td>\n",
       "      <td>...</td>\n",
       "      <td>...</td>\n",
       "      <td>...</td>\n",
       "      <td>...</td>\n",
       "      <td>...</td>\n",
       "      <td>...</td>\n",
       "      <td>...</td>\n",
       "      <td>...</td>\n",
       "      <td>...</td>\n",
       "      <td>...</td>\n",
       "      <td>...</td>\n",
       "      <td>...</td>\n",
       "      <td>...</td>\n",
       "      <td>...</td>\n",
       "      <td>...</td>\n",
       "      <td>...</td>\n",
       "      <td>...</td>\n",
       "      <td>...</td>\n",
       "    </tr>\n",
       "    <tr>\n",
       "      <th>51285</th>\n",
       "      <td>32593</td>\n",
       "      <td>CA-2014-115427</td>\n",
       "      <td>31-12-2014</td>\n",
       "      <td>4/1/2015</td>\n",
       "      <td>Standard Class</td>\n",
       "      <td>EB-13975</td>\n",
       "      <td>Erica Bern</td>\n",
       "      <td>Corporate</td>\n",
       "      <td>Fairfield</td>\n",
       "      <td>California</td>\n",
       "      <td>...</td>\n",
       "      <td>OFF-BI-10002103</td>\n",
       "      <td>Office Supplies</td>\n",
       "      <td>Binders</td>\n",
       "      <td>Cardinal Slant-D Ring Binder, Heavy Gauge Vinyl</td>\n",
       "      <td>13.904</td>\n",
       "      <td>2</td>\n",
       "      <td>0.2</td>\n",
       "      <td>4.5188</td>\n",
       "      <td>0.89</td>\n",
       "      <td>Medium</td>\n",
       "    </tr>\n",
       "    <tr>\n",
       "      <th>51286</th>\n",
       "      <td>47594</td>\n",
       "      <td>MO-2014-2560</td>\n",
       "      <td>31-12-2014</td>\n",
       "      <td>5/1/2015</td>\n",
       "      <td>Standard Class</td>\n",
       "      <td>LP-7095</td>\n",
       "      <td>Liz Preis</td>\n",
       "      <td>Consumer</td>\n",
       "      <td>Agadir</td>\n",
       "      <td>Souss-Massa-Draâ</td>\n",
       "      <td>...</td>\n",
       "      <td>OFF-WIL-10001069</td>\n",
       "      <td>Office Supplies</td>\n",
       "      <td>Binders</td>\n",
       "      <td>Wilson Jones Hole Reinforcements, Clear</td>\n",
       "      <td>3.990</td>\n",
       "      <td>1</td>\n",
       "      <td>0.0</td>\n",
       "      <td>0.4200</td>\n",
       "      <td>0.49</td>\n",
       "      <td>Medium</td>\n",
       "    </tr>\n",
       "    <tr>\n",
       "      <th>51287</th>\n",
       "      <td>8857</td>\n",
       "      <td>MX-2014-110527</td>\n",
       "      <td>31-12-2014</td>\n",
       "      <td>2/1/2015</td>\n",
       "      <td>Second Class</td>\n",
       "      <td>CM-12190</td>\n",
       "      <td>Charlotte Melton</td>\n",
       "      <td>Consumer</td>\n",
       "      <td>Managua</td>\n",
       "      <td>Managua</td>\n",
       "      <td>...</td>\n",
       "      <td>OFF-LA-10004182</td>\n",
       "      <td>Office Supplies</td>\n",
       "      <td>Labels</td>\n",
       "      <td>Hon Color Coded Labels, 5000 Label Set</td>\n",
       "      <td>26.400</td>\n",
       "      <td>3</td>\n",
       "      <td>0.0</td>\n",
       "      <td>12.3600</td>\n",
       "      <td>0.35</td>\n",
       "      <td>Medium</td>\n",
       "    </tr>\n",
       "    <tr>\n",
       "      <th>51288</th>\n",
       "      <td>6852</td>\n",
       "      <td>MX-2014-114783</td>\n",
       "      <td>31-12-2014</td>\n",
       "      <td>6/1/2015</td>\n",
       "      <td>Standard Class</td>\n",
       "      <td>TD-20995</td>\n",
       "      <td>Tamara Dahlen</td>\n",
       "      <td>Consumer</td>\n",
       "      <td>Juárez</td>\n",
       "      <td>Chihuahua</td>\n",
       "      <td>...</td>\n",
       "      <td>OFF-LA-10000413</td>\n",
       "      <td>Office Supplies</td>\n",
       "      <td>Labels</td>\n",
       "      <td>Hon Legal Exhibit Labels, Alphabetical</td>\n",
       "      <td>7.120</td>\n",
       "      <td>1</td>\n",
       "      <td>0.0</td>\n",
       "      <td>0.5600</td>\n",
       "      <td>0.20</td>\n",
       "      <td>Medium</td>\n",
       "    </tr>\n",
       "    <tr>\n",
       "      <th>51289</th>\n",
       "      <td>36388</td>\n",
       "      <td>CA-2014-156720</td>\n",
       "      <td>31-12-2014</td>\n",
       "      <td>4/1/2015</td>\n",
       "      <td>Standard Class</td>\n",
       "      <td>JM-15580</td>\n",
       "      <td>Jill Matthias</td>\n",
       "      <td>Consumer</td>\n",
       "      <td>Loveland</td>\n",
       "      <td>Colorado</td>\n",
       "      <td>...</td>\n",
       "      <td>OFF-FA-10003472</td>\n",
       "      <td>Office Supplies</td>\n",
       "      <td>Fasteners</td>\n",
       "      <td>Bagged Rubber Bands</td>\n",
       "      <td>3.024</td>\n",
       "      <td>3</td>\n",
       "      <td>0.2</td>\n",
       "      <td>-0.6048</td>\n",
       "      <td>0.17</td>\n",
       "      <td>Medium</td>\n",
       "    </tr>\n",
       "  </tbody>\n",
       "</table>\n",
       "<p>51290 rows × 24 columns</p>\n",
       "</div>"
      ],
      "text/plain": [
       "       Row ID         Order ID  Order Date Ship Date       Ship Mode  \\\n",
       "0       42433     AG-2011-2040    1/1/2011  6/1/2011  Standard Class   \n",
       "1       22253    IN-2011-47883    1/1/2011  8/1/2011  Standard Class   \n",
       "2       48883     HU-2011-1220    1/1/2011  5/1/2011    Second Class   \n",
       "3       11731  IT-2011-3647632    1/1/2011  5/1/2011    Second Class   \n",
       "4       22255    IN-2011-47883    1/1/2011  8/1/2011  Standard Class   \n",
       "...       ...              ...         ...       ...             ...   \n",
       "51285   32593   CA-2014-115427  31-12-2014  4/1/2015  Standard Class   \n",
       "51286   47594     MO-2014-2560  31-12-2014  5/1/2015  Standard Class   \n",
       "51287    8857   MX-2014-110527  31-12-2014  2/1/2015    Second Class   \n",
       "51288    6852   MX-2014-114783  31-12-2014  6/1/2015  Standard Class   \n",
       "51289   36388   CA-2014-156720  31-12-2014  4/1/2015  Standard Class   \n",
       "\n",
       "      Customer ID     Customer Name      Segment         City  \\\n",
       "0        TB-11280   Toby Braunhardt     Consumer  Constantine   \n",
       "1        JH-15985       Joseph Holt     Consumer  Wagga Wagga   \n",
       "2          AT-735     Annie Thurman     Consumer     Budapest   \n",
       "3        EM-14140      Eugene Moren  Home Office    Stockholm   \n",
       "4        JH-15985       Joseph Holt     Consumer  Wagga Wagga   \n",
       "...           ...               ...          ...          ...   \n",
       "51285    EB-13975        Erica Bern    Corporate    Fairfield   \n",
       "51286     LP-7095         Liz Preis     Consumer       Agadir   \n",
       "51287    CM-12190  Charlotte Melton     Consumer      Managua   \n",
       "51288    TD-20995     Tamara Dahlen     Consumer       Juárez   \n",
       "51289    JM-15580     Jill Matthias     Consumer     Loveland   \n",
       "\n",
       "                  State  ...        Product ID         Category Sub-Category  \\\n",
       "0           Constantine  ...  OFF-TEN-10000025  Office Supplies      Storage   \n",
       "1       New South Wales  ...   OFF-SU-10000618  Office Supplies     Supplies   \n",
       "2              Budapest  ...  OFF-TEN-10001585  Office Supplies      Storage   \n",
       "3             Stockholm  ...   OFF-PA-10001492  Office Supplies        Paper   \n",
       "4       New South Wales  ...   FUR-FU-10003447        Furniture  Furnishings   \n",
       "...                 ...  ...               ...              ...          ...   \n",
       "51285        California  ...   OFF-BI-10002103  Office Supplies      Binders   \n",
       "51286  Souss-Massa-Draâ  ...  OFF-WIL-10001069  Office Supplies      Binders   \n",
       "51287           Managua  ...   OFF-LA-10004182  Office Supplies       Labels   \n",
       "51288         Chihuahua  ...   OFF-LA-10000413  Office Supplies       Labels   \n",
       "51289          Colorado  ...   OFF-FA-10003472  Office Supplies    Fasteners   \n",
       "\n",
       "                                          Product Name    Sales Quantity  \\\n",
       "0                                  Tenex Lockers, Blue  408.300        2   \n",
       "1                             Acme Trimmer, High Speed  120.366        3   \n",
       "2                              Tenex Box, Single Width   66.120        4   \n",
       "3                          Enermax Note Cards, Premium   44.865        3   \n",
       "4                           Eldon Light Bulb, Duo Pack  113.670        5   \n",
       "...                                                ...      ...      ...   \n",
       "51285  Cardinal Slant-D Ring Binder, Heavy Gauge Vinyl   13.904        2   \n",
       "51286          Wilson Jones Hole Reinforcements, Clear    3.990        1   \n",
       "51287           Hon Color Coded Labels, 5000 Label Set   26.400        3   \n",
       "51288           Hon Legal Exhibit Labels, Alphabetical    7.120        1   \n",
       "51289                              Bagged Rubber Bands    3.024        3   \n",
       "\n",
       "      Discount    Profit  Shipping Cost  Order Priority  \n",
       "0          0.0  106.1400          35.46          Medium  \n",
       "1          0.1   36.0360           9.72          Medium  \n",
       "2          0.0   29.6400           8.17            High  \n",
       "3          0.5  -26.0550           4.82            High  \n",
       "4          0.1   37.7700           4.70          Medium  \n",
       "...        ...       ...            ...             ...  \n",
       "51285      0.2    4.5188           0.89          Medium  \n",
       "51286      0.0    0.4200           0.49          Medium  \n",
       "51287      0.0   12.3600           0.35          Medium  \n",
       "51288      0.0    0.5600           0.20          Medium  \n",
       "51289      0.2   -0.6048           0.17          Medium  \n",
       "\n",
       "[51290 rows x 24 columns]"
      ]
     },
     "execution_count": 4,
     "metadata": {},
     "output_type": "execute_result"
    }
   ],
   "source": [
    "# visualização da base para primeiras analises\n",
    "base_dados_do_teste"
   ]
  },
  {
   "cell_type": "markdown",
   "metadata": {},
   "source": [
    "## 1.5 Visualização das Culunas do DF"
   ]
  },
  {
   "cell_type": "code",
   "execution_count": 5,
   "metadata": {},
   "outputs": [
    {
     "data": {
      "text/plain": [
       "Index(['Row ID', 'Order ID', 'Order Date', 'Ship Date', 'Ship Mode',\n",
       "       'Customer ID', 'Customer Name', 'Segment', 'City', 'State', 'Country',\n",
       "       'Postal Code', 'Market', 'Region', 'Product ID', 'Category',\n",
       "       'Sub-Category', 'Product Name', 'Sales', 'Quantity', 'Discount',\n",
       "       'Profit', 'Shipping Cost', 'Order Priority'],\n",
       "      dtype='object')"
      ]
     },
     "execution_count": 5,
     "metadata": {},
     "output_type": "execute_result"
    }
   ],
   "source": [
    "# visualização das colunas do df do teste \n",
    "base_dados_do_teste.columns"
   ]
  },
  {
   "cell_type": "markdown",
   "metadata": {},
   "source": [
    "# 2 Limpeza dos Dados -> Iniciando a limpeza dos dados -> Objetivo: Valores nulos, Dados inconsistentes e Dados duplicados "
   ]
  },
  {
   "cell_type": "markdown",
   "metadata": {},
   "source": [
    "## 2.1 Tradução das Colunas "
   ]
  },
  {
   "cell_type": "code",
   "execution_count": 6,
   "metadata": {},
   "outputs": [
    {
     "data": {
      "text/plain": [
       "Index(['ID da Linha', 'ID do Pedido', 'Data do Pedido', 'Data de Envio',\n",
       "       'Modalidade de Envio', 'ID do Cliente', 'Nome do Cliente', 'Segmento',\n",
       "       'Cidade', 'Estado', 'País', 'Código Postal', 'Mercado', 'Região',\n",
       "       'ID do Produto', 'Categoria', 'Subcategoria', 'Nome do Produto',\n",
       "       'Vendas', 'Quantidade', 'Desconto', 'Lucro', 'Custo de Envio',\n",
       "       'Prioridade do Pedido'],\n",
       "      dtype='object')"
      ]
     },
     "execution_count": 6,
     "metadata": {},
     "output_type": "execute_result"
    }
   ],
   "source": [
    "# tradução das colunas para facilitar analise \n",
    "base_dados_do_teste = base_dados_do_teste.rename(columns={\n",
    "    'Row ID': 'ID da Linha',\n",
    "    'Order ID': 'ID do Pedido',\n",
    "    'Order Date': 'Data do Pedido',\n",
    "    'Ship Date': 'Data de Envio',\n",
    "    'Ship Mode': 'Modalidade de Envio',\n",
    "    'Customer ID': 'ID do Cliente',\n",
    "    'Customer Name': 'Nome do Cliente',\n",
    "    'Segment': 'Segmento',\n",
    "    'City': 'Cidade',\n",
    "    'State': 'Estado',\n",
    "    'Country': 'País',\n",
    "    'Postal Code': 'Código Postal',\n",
    "    'Market': 'Mercado',\n",
    "    'Region': 'Região',\n",
    "    'Product ID': 'ID do Produto',\n",
    "    'Category': 'Categoria',\n",
    "    'Sub-Category': 'Subcategoria',\n",
    "    'Product Name': 'Nome do Produto',\n",
    "    'Sales': 'Vendas',\n",
    "    'Quantity': 'Quantidade',\n",
    "    'Discount': 'Desconto',\n",
    "    'Profit': 'Lucro',\n",
    "    'Shipping Cost': 'Custo de Envio',\n",
    "    'Order Priority': 'Prioridade do Pedido'\n",
    "})\n",
    "\n",
    "base_dados_do_teste.columns\n"
   ]
  },
  {
   "cell_type": "code",
   "execution_count": 37,
   "metadata": {},
   "outputs": [
    {
     "name": "stdout",
     "output_type": "stream",
     "text": [
      "0              Algeria\n",
      "1            Australia\n",
      "2              Hungary\n",
      "3               Sweden\n",
      "4            Australia\n",
      "             ...      \n",
      "51285    United States\n",
      "51286          Morocco\n",
      "51287        Nicaragua\n",
      "51288           Mexico\n",
      "51289    United States\n",
      "Name: País, Length: 51290, dtype: object\n"
     ]
    }
   ],
   "source": [
    "print(base_dados_do_teste['País'])"
   ]
  },
  {
   "cell_type": "markdown",
   "metadata": {},
   "source": [
    "## 2.2 Criando Função de Limpeza das Colunas"
   ]
  },
  {
   "cell_type": "code",
   "execution_count": 41,
   "metadata": {},
   "outputs": [
    {
     "name": "stdout",
     "output_type": "stream",
     "text": [
      "Requirement already satisfied: pycountry in c:\\users\\fabio\\anaconda3\\lib\\site-packages (24.6.1)\n"
     ]
    }
   ],
   "source": [
    "!pip install pycountry"
   ]
  },
  {
   "cell_type": "code",
   "execution_count": 43,
   "metadata": {},
   "outputs": [
    {
     "name": "stdout",
     "output_type": "stream",
     "text": [
      "Nomes que não são países reconhecidos:\n",
      "{'Tanzania', 'Venezuela', 'Moldova', 'Macedonia', 'Turkey', 'Syria', 'Bolivia', 'Iran', 'Republic of the Congo', \"Cote d'Ivoire\", 'Vietnam', 'Swaziland', 'Russia', 'Czech Republic', 'Taiwan', 'Myanmar (Burma)', 'South Korea', 'Democratic Republic of the Congo'}\n"
     ]
    }
   ],
   "source": [
    "\n",
    "import unicodedata\n",
    "import pycountry\n",
    "\n",
    "# Função para limpar o nome dos países\n",
    "def limpar_nome(nome):\n",
    "    # Tenta decodificar bytes estranhos se possível\n",
    "    if isinstance(nome, bytes):\n",
    "        nome = nome.decode('utf-8', errors='ignore')\n",
    "    # Remove caracteres não ASCII e acentos\n",
    "    nome = unicodedata.normalize('NFKD', str(nome)).encode('ASCII', 'ignore').decode('utf-8')\n",
    "    # Remove espaços extras\n",
    "    nome = nome.strip()\n",
    "    return nome\n",
    "\n",
    "# Aplicar a limpeza na coluna\n",
    "base_dados_do_teste['País'] = base_dados_do_teste['País'].apply(limpar_nome)\n",
    "\n",
    "# Verificar quais nomes não são países reconhecidos\n",
    "paises_validos = set(country.name for country in pycountry.countries)\n",
    "nomes_invalidos = set(base_dados_do_teste['País'].unique()) - paises_validos\n",
    "\n",
    "print(\"Nomes que não são países reconhecidos:\")\n",
    "print(nomes_invalidos)\n"
   ]
  },
  {
   "cell_type": "code",
   "execution_count": 44,
   "metadata": {},
   "outputs": [
    {
     "name": "stdout",
     "output_type": "stream",
     "text": [
      "Nomes válidos de países reconhecidos:\n",
      "{'Martinique', 'Singapore', 'Mexico', 'Panama', 'Georgia', 'Guadeloupe', 'Hong Kong', 'Niger', 'Guatemala', 'Djibouti'}\n"
     ]
    }
   ],
   "source": [
    "# Lista de países válidos\n",
    "paises_validos = set(country.name for country in pycountry.countries)\n",
    "\n",
    "# Verificar nomes válidos\n",
    "nomes_unicos = set(base_dados_do_teste['Estado'].unique())\n",
    "nomes_validos = nomes_unicos.intersection(paises_validos)\n",
    "\n",
    "print(\"Nomes válidos de países reconhecidos:\")\n",
    "print(nomes_validos)\n"
   ]
  },
  {
   "cell_type": "code",
   "execution_count": 45,
   "metadata": {},
   "outputs": [],
   "source": [
    "substituir_nomes = {\n",
    "    \"Russia\": \"Russian Federation\",\n",
    "    \"South Korea\": \"Korea, Republic of\",\n",
    "    \"North Korea\": \"Korea, Democratic People's Republic of\",\n",
    "    \"Iran\": \"Iran, Islamic Republic of\",\n",
    "    \"Vietnam\": \"Viet Nam\",\n",
    "    \"Venezuela\": \"Venezuela, Bolivarian Republic of\",\n",
    "    \"Bolivia\": \"Bolivia, Plurinational State of\",\n",
    "    \"Syria\": \"Syrian Arab Republic\",\n",
    "    \"Turkey\": \"Türkiye\",\n",
    "    \"Macedonia\": \"North Macedonia\",\n",
    "    \"Moldova\": \"Moldova, Republic of\",\n",
    "    \"Republic of the Congo\": \"Congo\",\n",
    "    \"Democratic Republic of the Congo\": \"Congo, The Democratic Republic of the\",\n",
    "    \"Cote d'Ivoire\": \"Côte d'Ivoire\",\n",
    "    \"Swaziland\": \"Eswatini\",\n",
    "    \"Czech Republic\": \"Czechia\",\n",
    "    \"Taiwan\": \"Taiwan, Province of China\",\n",
    "    \"Myanmar (Burma)\": \"Myanmar\",\n",
    "    \"Tanzania\": \"Tanzania, United Republic of\"\n",
    "}\n"
   ]
  },
  {
   "cell_type": "code",
   "execution_count": 46,
   "metadata": {},
   "outputs": [],
   "source": [
    "# Substituir os nomes no DataFrame\n",
    "base_dados_do_teste['País'] = base_dados_do_teste['País'].replace(substituir_nomes)\n"
   ]
  },
  {
   "cell_type": "markdown",
   "metadata": {},
   "source": [
    "## 2.2 Ultilizando describe() para ter uma noção inicial Eatatistica do DF"
   ]
  },
  {
   "cell_type": "code",
   "execution_count": 7,
   "metadata": {},
   "outputs": [
    {
     "data": {
      "text/html": [
       "<div>\n",
       "<style scoped>\n",
       "    .dataframe tbody tr th:only-of-type {\n",
       "        vertical-align: middle;\n",
       "    }\n",
       "\n",
       "    .dataframe tbody tr th {\n",
       "        vertical-align: top;\n",
       "    }\n",
       "\n",
       "    .dataframe thead th {\n",
       "        text-align: right;\n",
       "    }\n",
       "</style>\n",
       "<table border=\"1\" class=\"dataframe\">\n",
       "  <thead>\n",
       "    <tr style=\"text-align: right;\">\n",
       "      <th></th>\n",
       "      <th>ID da Linha</th>\n",
       "      <th>Código Postal</th>\n",
       "      <th>Vendas</th>\n",
       "      <th>Quantidade</th>\n",
       "      <th>Desconto</th>\n",
       "      <th>Lucro</th>\n",
       "      <th>Custo de Envio</th>\n",
       "    </tr>\n",
       "  </thead>\n",
       "  <tbody>\n",
       "    <tr>\n",
       "      <th>count</th>\n",
       "      <td>51290.00000</td>\n",
       "      <td>9994.000000</td>\n",
       "      <td>51290.000000</td>\n",
       "      <td>51290.000000</td>\n",
       "      <td>51290.000000</td>\n",
       "      <td>51290.000000</td>\n",
       "      <td>51290.000000</td>\n",
       "    </tr>\n",
       "    <tr>\n",
       "      <th>mean</th>\n",
       "      <td>25645.50000</td>\n",
       "      <td>55190.379428</td>\n",
       "      <td>246.490581</td>\n",
       "      <td>3.476545</td>\n",
       "      <td>0.142908</td>\n",
       "      <td>28.610982</td>\n",
       "      <td>26.375915</td>\n",
       "    </tr>\n",
       "    <tr>\n",
       "      <th>std</th>\n",
       "      <td>14806.29199</td>\n",
       "      <td>32063.693350</td>\n",
       "      <td>487.565361</td>\n",
       "      <td>2.278766</td>\n",
       "      <td>0.212280</td>\n",
       "      <td>174.340972</td>\n",
       "      <td>57.296804</td>\n",
       "    </tr>\n",
       "    <tr>\n",
       "      <th>min</th>\n",
       "      <td>1.00000</td>\n",
       "      <td>1040.000000</td>\n",
       "      <td>0.444000</td>\n",
       "      <td>1.000000</td>\n",
       "      <td>0.000000</td>\n",
       "      <td>-6599.978000</td>\n",
       "      <td>0.000000</td>\n",
       "    </tr>\n",
       "    <tr>\n",
       "      <th>25%</th>\n",
       "      <td>12823.25000</td>\n",
       "      <td>23223.000000</td>\n",
       "      <td>30.758625</td>\n",
       "      <td>2.000000</td>\n",
       "      <td>0.000000</td>\n",
       "      <td>0.000000</td>\n",
       "      <td>2.610000</td>\n",
       "    </tr>\n",
       "    <tr>\n",
       "      <th>50%</th>\n",
       "      <td>25645.50000</td>\n",
       "      <td>56430.500000</td>\n",
       "      <td>85.053000</td>\n",
       "      <td>3.000000</td>\n",
       "      <td>0.000000</td>\n",
       "      <td>9.240000</td>\n",
       "      <td>7.790000</td>\n",
       "    </tr>\n",
       "    <tr>\n",
       "      <th>75%</th>\n",
       "      <td>38467.75000</td>\n",
       "      <td>90008.000000</td>\n",
       "      <td>251.053200</td>\n",
       "      <td>5.000000</td>\n",
       "      <td>0.200000</td>\n",
       "      <td>36.810000</td>\n",
       "      <td>24.450000</td>\n",
       "    </tr>\n",
       "    <tr>\n",
       "      <th>max</th>\n",
       "      <td>51290.00000</td>\n",
       "      <td>99301.000000</td>\n",
       "      <td>22638.480000</td>\n",
       "      <td>14.000000</td>\n",
       "      <td>0.850000</td>\n",
       "      <td>8399.976000</td>\n",
       "      <td>933.570000</td>\n",
       "    </tr>\n",
       "  </tbody>\n",
       "</table>\n",
       "</div>"
      ],
      "text/plain": [
       "       ID da Linha  Código Postal        Vendas    Quantidade      Desconto  \\\n",
       "count  51290.00000    9994.000000  51290.000000  51290.000000  51290.000000   \n",
       "mean   25645.50000   55190.379428    246.490581      3.476545      0.142908   \n",
       "std    14806.29199   32063.693350    487.565361      2.278766      0.212280   \n",
       "min        1.00000    1040.000000      0.444000      1.000000      0.000000   \n",
       "25%    12823.25000   23223.000000     30.758625      2.000000      0.000000   \n",
       "50%    25645.50000   56430.500000     85.053000      3.000000      0.000000   \n",
       "75%    38467.75000   90008.000000    251.053200      5.000000      0.200000   \n",
       "max    51290.00000   99301.000000  22638.480000     14.000000      0.850000   \n",
       "\n",
       "              Lucro  Custo de Envio  \n",
       "count  51290.000000    51290.000000  \n",
       "mean      28.610982       26.375915  \n",
       "std      174.340972       57.296804  \n",
       "min    -6599.978000        0.000000  \n",
       "25%        0.000000        2.610000  \n",
       "50%        9.240000        7.790000  \n",
       "75%       36.810000       24.450000  \n",
       "max     8399.976000      933.570000  "
      ]
     },
     "execution_count": 7,
     "metadata": {},
     "output_type": "execute_result"
    }
   ],
   "source": [
    "# ultilizando describe() para ter uma noção inicial do df obs: futuras comparações \n",
    "base_dados_do_teste.describe()"
   ]
  },
  {
   "cell_type": "markdown",
   "metadata": {},
   "source": [
    "## 2.3 Buscando Valores nulos"
   ]
  },
  {
   "cell_type": "code",
   "execution_count": 8,
   "metadata": {},
   "outputs": [
    {
     "data": {
      "text/plain": [
       "ID da Linha                 0\n",
       "ID do Pedido                0\n",
       "Data do Pedido              0\n",
       "Data de Envio               0\n",
       "Modalidade de Envio         0\n",
       "ID do Cliente               0\n",
       "Nome do Cliente             0\n",
       "Segmento                    0\n",
       "Cidade                      0\n",
       "Estado                      0\n",
       "País                        0\n",
       "Código Postal           41296\n",
       "Mercado                     0\n",
       "Região                      0\n",
       "ID do Produto               0\n",
       "Categoria                   0\n",
       "Subcategoria                0\n",
       "Nome do Produto             0\n",
       "Vendas                      0\n",
       "Quantidade                  0\n",
       "Desconto                    0\n",
       "Lucro                       0\n",
       "Custo de Envio              0\n",
       "Prioridade do Pedido        0\n",
       "dtype: int64"
      ]
     },
     "execution_count": 8,
     "metadata": {},
     "output_type": "execute_result"
    }
   ],
   "source": [
    "# verificando a qtd de valores nulos em cada coluna\n",
    "base_dados_do_teste.isnull().sum()"
   ]
  },
  {
   "cell_type": "markdown",
   "metadata": {},
   "source": [
    "## 2.4 Número de Linhas do DF"
   ]
  },
  {
   "cell_type": "code",
   "execution_count": 9,
   "metadata": {},
   "outputs": [
    {
     "name": "stdout",
     "output_type": "stream",
     "text": [
      "51290\n"
     ]
    }
   ],
   "source": [
    "# visualizando número de linhas do df para comparação com números de nulos\n",
    "numero_linhas = base_dados_do_teste.shape[0]\n",
    "print(numero_linhas)"
   ]
  },
  {
   "cell_type": "markdown",
   "metadata": {},
   "source": [
    "## 2.5 Número de Linhas Nulas"
   ]
  },
  {
   "cell_type": "code",
   "execution_count": 10,
   "metadata": {},
   "outputs": [],
   "source": [
    "# visualização de nulos\n",
    "nulos_codigo_postal = base_dados_do_teste['Código Postal'].isnull().sum()"
   ]
  },
  {
   "cell_type": "code",
   "execution_count": 11,
   "metadata": {},
   "outputs": [
    {
     "name": "stdout",
     "output_type": "stream",
     "text": [
      "0            NaN\n",
      "1            NaN\n",
      "2            NaN\n",
      "3            NaN\n",
      "4            NaN\n",
      "          ...   \n",
      "51285    94533.0\n",
      "51286        NaN\n",
      "51287        NaN\n",
      "51288        NaN\n",
      "51289    80538.0\n",
      "Name: Código Postal, Length: 51290, dtype: float64\n"
     ]
    }
   ],
   "source": [
    "# observação da coluna \n",
    "print(base_dados_do_teste['Código Postal'])"
   ]
  },
  {
   "cell_type": "markdown",
   "metadata": {},
   "source": [
    "## 2.6 Verificando a Porcentagem de Valores Nulos em Referência ao Total de Linhas\n"
   ]
  },
  {
   "cell_type": "code",
   "execution_count": 12,
   "metadata": {},
   "outputs": [
    {
     "name": "stdout",
     "output_type": "stream",
     "text": [
      "80.51472021836615\n"
     ]
    }
   ],
   "source": [
    "# verificando a % de valores nulos na coluna codigo posta em referência ao total de linhas\n",
    "#  obs: analise de possivél drop da coluna\n",
    "porcentagem_de_nulos = (nulos_codigo_postal / numero_linhas) * 100\n",
    "print(porcentagem_de_nulos)"
   ]
  },
  {
   "cell_type": "markdown",
   "metadata": {},
   "source": [
    "## OBS: A coluna 'Código Postal' foi excluída devido à alta proporção de valores nulos e à redundância com outras variáveis geográficas como Estado, Cidade e País, que oferecem informações suficientes para a análise"
   ]
  },
  {
   "cell_type": "markdown",
   "metadata": {},
   "source": [
    "## 2.7 Exclusão Da Coluna de Nulos"
   ]
  },
  {
   "cell_type": "code",
   "execution_count": 13,
   "metadata": {},
   "outputs": [],
   "source": [
    "# exclusão da coluna\n",
    "base_dados_do_teste.drop('Código Postal', axis=1, inplace=True)"
   ]
  },
  {
   "cell_type": "code",
   "execution_count": 14,
   "metadata": {},
   "outputs": [
    {
     "data": {
      "text/plain": [
       "Index(['ID da Linha', 'ID do Pedido', 'Data do Pedido', 'Data de Envio',\n",
       "       'Modalidade de Envio', 'ID do Cliente', 'Nome do Cliente', 'Segmento',\n",
       "       'Cidade', 'Estado', 'País', 'Mercado', 'Região', 'ID do Produto',\n",
       "       'Categoria', 'Subcategoria', 'Nome do Produto', 'Vendas', 'Quantidade',\n",
       "       'Desconto', 'Lucro', 'Custo de Envio', 'Prioridade do Pedido'],\n",
       "      dtype='object')"
      ]
     },
     "execution_count": 14,
     "metadata": {},
     "output_type": "execute_result"
    }
   ],
   "source": [
    "# nova base com o drop\n",
    "base_dados_do_teste.columns"
   ]
  },
  {
   "cell_type": "code",
   "execution_count": 15,
   "metadata": {},
   "outputs": [
    {
     "data": {
      "text/plain": [
       "ID da Linha             0\n",
       "ID do Pedido            0\n",
       "Data do Pedido          0\n",
       "Data de Envio           0\n",
       "Modalidade de Envio     0\n",
       "ID do Cliente           0\n",
       "Nome do Cliente         0\n",
       "Segmento                0\n",
       "Cidade                  0\n",
       "Estado                  0\n",
       "País                    0\n",
       "Mercado                 0\n",
       "Região                  0\n",
       "ID do Produto           0\n",
       "Categoria               0\n",
       "Subcategoria            0\n",
       "Nome do Produto         0\n",
       "Vendas                  0\n",
       "Quantidade              0\n",
       "Desconto                0\n",
       "Lucro                   0\n",
       "Custo de Envio          0\n",
       "Prioridade do Pedido    0\n",
       "dtype: int64"
      ]
     },
     "execution_count": 15,
     "metadata": {},
     "output_type": "execute_result"
    }
   ],
   "source": [
    "#  confirmando nulos na nova base sem a coluna codigo postal\n",
    "base_dados_do_teste.isnull().sum()"
   ]
  },
  {
   "cell_type": "markdown",
   "metadata": {},
   "source": [
    "## 2.7 Verificando Tipos de Dados"
   ]
  },
  {
   "cell_type": "code",
   "execution_count": 16,
   "metadata": {},
   "outputs": [
    {
     "name": "stdout",
     "output_type": "stream",
     "text": [
      "<class 'pandas.core.frame.DataFrame'>\n",
      "RangeIndex: 51290 entries, 0 to 51289\n",
      "Data columns (total 23 columns):\n",
      " #   Column                Non-Null Count  Dtype  \n",
      "---  ------                --------------  -----  \n",
      " 0   ID da Linha           51290 non-null  int64  \n",
      " 1   ID do Pedido          51290 non-null  object \n",
      " 2   Data do Pedido        51290 non-null  object \n",
      " 3   Data de Envio         51290 non-null  object \n",
      " 4   Modalidade de Envio   51290 non-null  object \n",
      " 5   ID do Cliente         51290 non-null  object \n",
      " 6   Nome do Cliente       51290 non-null  object \n",
      " 7   Segmento              51290 non-null  object \n",
      " 8   Cidade                51290 non-null  object \n",
      " 9   Estado                51290 non-null  object \n",
      " 10  País                  51290 non-null  object \n",
      " 11  Mercado               51290 non-null  object \n",
      " 12  Região                51290 non-null  object \n",
      " 13  ID do Produto         51290 non-null  object \n",
      " 14  Categoria             51290 non-null  object \n",
      " 15  Subcategoria          51290 non-null  object \n",
      " 16  Nome do Produto       51290 non-null  object \n",
      " 17  Vendas                51290 non-null  float64\n",
      " 18  Quantidade            51290 non-null  int64  \n",
      " 19  Desconto              51290 non-null  float64\n",
      " 20  Lucro                 51290 non-null  float64\n",
      " 21  Custo de Envio        51290 non-null  float64\n",
      " 22  Prioridade do Pedido  51290 non-null  object \n",
      "dtypes: float64(4), int64(2), object(17)\n",
      "memory usage: 9.0+ MB\n"
     ]
    }
   ],
   "source": [
    "# visualizando informações do tipo de dados \n",
    "base_dados_do_teste.info()"
   ]
  },
  {
   "cell_type": "markdown",
   "metadata": {},
   "source": [
    "## 2.8 Convertendo Dados Objetos para Data"
   ]
  },
  {
   "cell_type": "code",
   "execution_count": 17,
   "metadata": {},
   "outputs": [
    {
     "name": "stdout",
     "output_type": "stream",
     "text": [
      "20067    13-01-2011\n",
      "20068    13-01-2011\n",
      "20069    13-01-2011\n",
      "20070    13-01-2011\n",
      "20071    13-01-2011\n",
      "            ...    \n",
      "51285    31-12-2014\n",
      "51286    31-12-2014\n",
      "51287    31-12-2014\n",
      "51288    31-12-2014\n",
      "51289    31-12-2014\n",
      "Name: Data do Pedido, Length: 31223, dtype: object\n"
     ]
    }
   ],
   "source": [
    "# encontrar valores NÃO são convertidos para datetime\n",
    "datas_invalidas = base_dados_do_teste[~pd.to_datetime(base_dados_do_teste['Data do Pedido'], dayfirst=True, errors='coerce').notna()]\n",
    "\n",
    "print(datas_invalidas['Data do Pedido'])\n"
   ]
  },
  {
   "cell_type": "code",
   "execution_count": 18,
   "metadata": {},
   "outputs": [],
   "source": [
    "#convertendo valores \n",
    "base_dados_do_teste['Data do Pedido'] = pd.to_datetime(base_dados_do_teste['Data do Pedido'], format='%d-%m-%Y', errors='coerce')\n",
    "base_dados_do_teste['Data de Envio'] = pd.to_datetime(base_dados_do_teste['Data de Envio'], format='%d-%m-%Y', errors='coerce')\n"
   ]
  },
  {
   "cell_type": "code",
   "execution_count": 19,
   "metadata": {},
   "outputs": [
    {
     "name": "stdout",
     "output_type": "stream",
     "text": [
      "<class 'pandas.core.frame.DataFrame'>\n",
      "RangeIndex: 51290 entries, 0 to 51289\n",
      "Data columns (total 23 columns):\n",
      " #   Column                Non-Null Count  Dtype         \n",
      "---  ------                --------------  -----         \n",
      " 0   ID da Linha           51290 non-null  int64         \n",
      " 1   ID do Pedido          51290 non-null  object        \n",
      " 2   Data do Pedido        31223 non-null  datetime64[ns]\n",
      " 3   Data de Envio         31456 non-null  datetime64[ns]\n",
      " 4   Modalidade de Envio   51290 non-null  object        \n",
      " 5   ID do Cliente         51290 non-null  object        \n",
      " 6   Nome do Cliente       51290 non-null  object        \n",
      " 7   Segmento              51290 non-null  object        \n",
      " 8   Cidade                51290 non-null  object        \n",
      " 9   Estado                51290 non-null  object        \n",
      " 10  País                  51290 non-null  object        \n",
      " 11  Mercado               51290 non-null  object        \n",
      " 12  Região                51290 non-null  object        \n",
      " 13  ID do Produto         51290 non-null  object        \n",
      " 14  Categoria             51290 non-null  object        \n",
      " 15  Subcategoria          51290 non-null  object        \n",
      " 16  Nome do Produto       51290 non-null  object        \n",
      " 17  Vendas                51290 non-null  float64       \n",
      " 18  Quantidade            51290 non-null  int64         \n",
      " 19  Desconto              51290 non-null  float64       \n",
      " 20  Lucro                 51290 non-null  float64       \n",
      " 21  Custo de Envio        51290 non-null  float64       \n",
      " 22  Prioridade do Pedido  51290 non-null  object        \n",
      "dtypes: datetime64[ns](2), float64(4), int64(2), object(15)\n",
      "memory usage: 9.0+ MB\n"
     ]
    }
   ],
   "source": [
    "# confirmação \n",
    "base_dados_do_teste.info()"
   ]
  },
  {
   "cell_type": "markdown",
   "metadata": {},
   "source": [
    "## 2.9 Vereficando Dados Duplicados"
   ]
  },
  {
   "cell_type": "code",
   "execution_count": 20,
   "metadata": {},
   "outputs": [
    {
     "data": {
      "text/plain": [
       "0"
      ]
     },
     "execution_count": 20,
     "metadata": {},
     "output_type": "execute_result"
    }
   ],
   "source": [
    "# dados duplicados Não encontrado\n",
    "base_dados_do_teste.duplicated().sum()\n"
   ]
  },
  {
   "cell_type": "markdown",
   "metadata": {},
   "source": [
    "## obs: sem dados duplicados"
   ]
  },
  {
   "cell_type": "markdown",
   "metadata": {},
   "source": [
    "# 3 Iniciando Análise Exploratória (importando bibliotecas)"
   ]
  },
  {
   "cell_type": "code",
   "execution_count": 28,
   "metadata": {},
   "outputs": [],
   "source": [
    "# importação da bibliotecas -> gráficos\n",
    "import matplotlib.pyplot as plt  # mais controle dos graficos\n",
    "import seaborn as sns # gráficos mais modernos"
   ]
  },
  {
   "cell_type": "code",
   "execution_count": 56,
   "metadata": {},
   "outputs": [
    {
     "data": {
      "image/png": "[encoded data removed]",
      "text/plain": [
       "<Figure size 1800x800 with 1 Axes>"
      ]
     },
     "metadata": {},
     "output_type": "display_data"
    }
   ],
   "source": [
    "plt.figure(figsize=(18, 8))\n",
    "sns.histplot(base_dados_do_teste['Vendas'], bins=60, kde=False)\n",
    "plt.title('Distribuição das Vendas com Outliers')\n",
    "plt.xlabel('Vendas')\n",
    "plt.ylabel('Frequência')\n",
    "plt.show()"
   ]
  },
  {
   "cell_type": "code",
   "execution_count": 55,
   "metadata": {},
   "outputs": [
    {
     "data": {
      "image/png": "[encoded data removed]",
      "text/plain": [
       "<Figure size 1800x800 with 1 Axes>"
      ]
     },
     "metadata": {},
     "output_type": "display_data"
    }
   ],
   "source": [
    "vendas_filtradas = base_dados_do_teste[base_dados_do_teste['Vendas'] < base_dados_do_teste['Vendas'].quantile(0.95)]\n",
    "\n",
    "plt.figure(figsize=(18, 8))\n",
    "sns.histplot(vendas_filtradas['Vendas'], bins=60, kde=True)  # KDE para suavizar a curva\n",
    "plt.title('Distribuição das Vendas (Sem Outliers)')\n",
    "plt.xlabel('Vendas')\n",
    "plt.ylabel('Frequência')\n",
    "plt.show()\n"
   ]
  },
  {
   "cell_type": "code",
   "execution_count": 57,
   "metadata": {},
   "outputs": [],
   "source": [
    "\n",
    "outliers = base_dados_do_teste[base_dados_do_teste['Vendas'] >= base_dados_do_teste['Vendas'].quantile(0.95)]\n"
   ]
  },
  {
   "cell_type": "code",
   "execution_count": 58,
   "metadata": {},
   "outputs": [
    {
     "data": {
      "image/png": "[encoded data removed]",
      "text/plain": [
       "<Figure size 1800x800 with 1 Axes>"
      ]
     },
     "metadata": {},
     "output_type": "display_data"
    }
   ],
   "source": [
    "plt.figure(figsize=(18, 8))\n",
    "sns.histplot(outliers['Vendas'], bins=30, kde=True)\n",
    "plt.title('Distribuição dos Outliers de Vendas (Top 5%)')\n",
    "plt.xlabel('Vendas')\n",
    "plt.ylabel('Frequência')\n",
    "plt.show()\n"
   ]
  },
  {
   "cell_type": "code",
   "execution_count": 67,
   "metadata": {},
   "outputs": [
    {
     "data": {
      "image/png": "[encoded data removed]",
      "text/plain": [
       "<Figure size 1800x800 with 1 Axes>"
      ]
     },
     "metadata": {},
     "output_type": "display_data"
    }
   ],
   "source": [
    "import seaborn as sns\n",
    "import matplotlib.pyplot as plt\n",
    "\n",
    "plt.figure(figsize=(18, 8))\n",
    "sns.boxplot(x=base_dados_do_teste['Vendas'], color='skyblue')\n",
    "plt.title('Distribuição das Vendas (Horizontal)')\n",
    "plt.xlabel('Vendas')\n",
    "plt.grid(True)\n",
    "plt.show()\n",
    "\n"
   ]
  },
  {
   "cell_type": "code",
   "execution_count": 59,
   "metadata": {},
   "outputs": [],
   "source": [
    "# Criar uma nova coluna: Tempo de Entrega em dias\n",
    "base_dados_do_teste['Tempo de Entrega'] = (base_dados_do_teste['Data de Envio'] - base_dados_do_teste['Data do Pedido']).dt.days"
   ]
  },
  {
   "cell_type": "code",
   "execution_count": 68,
   "metadata": {},
   "outputs": [
    {
     "data": {
      "image/png": "[encoded data removed]",
      "text/plain": [
       "<Figure size 1800x800 with 1 Axes>"
      ]
     },
     "metadata": {},
     "output_type": "display_data"
    }
   ],
   "source": [
    "plt.figure(figsize=(18, 8))\n",
    "sns.scatterplot(data=base_dados_do_teste, x='Tempo de Entrega', y='Vendas', alpha=0.6)\n",
    "plt.title('Relação entre Tempo de Entrega e Vendas')\n",
    "plt.xlabel('Tempo de Entrega (dias)')\n",
    "plt.ylabel('Vendas')\n",
    "plt.grid(True)\n",
    "plt.show()\n"
   ]
  },
  {
   "cell_type": "markdown",
   "metadata": {},
   "source": [
    "## 3.1 Agrupando por Produto e Top 10 Mais Vendidos "
   ]
  },
  {
   "cell_type": "code",
   "execution_count": 29,
   "metadata": {},
   "outputs": [],
   "source": [
    "# agrupando e somando as vendas\n",
    "top_produtos = base_dados_do_teste.groupby('Nome do Produto')['Vendas'].sum().sort_values(ascending=False).head(10)"
   ]
  },
  {
   "cell_type": "code",
   "execution_count": 30,
   "metadata": {},
   "outputs": [
    {
     "data": {
      "text/plain": [
       "<Axes: title={'center': 'Top 10 Produtos Mais Vendidos'}, ylabel='Nome do Produto'>"
      ]
     },
     "execution_count": 30,
     "metadata": {},
     "output_type": "execute_result"
    },
    {
     "data": {
      "image/png": "[encoded data removed]",
      "text/plain": [
       "<Figure size 640x480 with 1 Axes>"
      ]
     },
     "metadata": {},
     "output_type": "display_data"
    }
   ],
   "source": [
    "# visualizando os top 10 produtos\n",
    "top_produtos.sort_values(ascending=True).plot(kind='barh', title='Top 10 Produtos Mais Vendidos')"
   ]
  },
  {
   "cell_type": "markdown",
   "metadata": {},
   "source": [
    "## 3.3 Distribuição Geografica"
   ]
  },
  {
   "cell_type": "code",
   "execution_count": 48,
   "metadata": {},
   "outputs": [
    {
     "data": {
      "application/vnd.plotly.v1+json": {
       "config": {
        "plotlyServerURL": "https://plot.ly"
       },
       "data": [
        {
         "coloraxis": "coloraxis",
         "geo": "geo",
         "hovertemplate": "País=%{location}<br>Vendas=%{z}<extra></extra>",
         "locationmode": "country names",
         "locations": [
          "Afghanistan",
          "Albania",
          "Algeria",
          "Angola",
          "Argentina",
          "Armenia",
          "Australia",
          "Austria",
          "Azerbaijan",
          "Bahrain",
          "Bangladesh",
          "Barbados",
          "Belarus",
          "Belgium",
          "Benin",
          "Bolivia, Plurinational State of",
          "Bosnia and Herzegovina",
          "Brazil",
          "Bulgaria",
          "Burundi",
          "Cambodia",
          "Cameroon",
          "Canada",
          "Central African Republic",
          "Chad",
          "Chile",
          "China",
          "Colombia",
          "Congo",
          "Congo, The Democratic Republic of the",
          "Croatia",
          "Cuba",
          "Czechia",
          "Côte d'Ivoire",
          "Denmark",
          "Djibouti",
          "Dominican Republic",
          "Ecuador",
          "Egypt",
          "El Salvador",
          "Equatorial Guinea",
          "Eritrea",
          "Estonia",
          "Eswatini",
          "Ethiopia",
          "Finland",
          "France",
          "Gabon",
          "Georgia",
          "Germany",
          "Ghana",
          "Guadeloupe",
          "Guatemala",
          "Guinea",
          "Guinea-Bissau",
          "Haiti",
          "Honduras",
          "Hong Kong",
          "Hungary",
          "India",
          "Indonesia",
          "Iran, Islamic Republic of",
          "Iraq",
          "Ireland",
          "Israel",
          "Italy",
          "Jamaica",
          "Japan",
          "Jordan",
          "Kazakhstan",
          "Kenya",
          "Korea, Republic of",
          "Kyrgyzstan",
          "Lebanon",
          "Lesotho",
          "Liberia",
          "Libya",
          "Lithuania",
          "Madagascar",
          "Malaysia",
          "Mali",
          "Martinique",
          "Mauritania",
          "Mexico",
          "Moldova, Republic of",
          "Mongolia",
          "Montenegro",
          "Morocco",
          "Mozambique",
          "Myanmar",
          "Namibia",
          "Nepal",
          "Netherlands",
          "New Zealand",
          "Nicaragua",
          "Niger",
          "Nigeria",
          "North Macedonia",
          "Norway",
          "Pakistan",
          "Panama",
          "Papua New Guinea",
          "Paraguay",
          "Peru",
          "Philippines",
          "Poland",
          "Portugal",
          "Qatar",
          "Romania",
          "Russian Federation",
          "Rwanda",
          "Saudi Arabia",
          "Senegal",
          "Sierra Leone",
          "Singapore",
          "Slovakia",
          "Slovenia",
          "Somalia",
          "South Africa",
          "South Sudan",
          "Spain",
          "Sri Lanka",
          "Sudan",
          "Sweden",
          "Switzerland",
          "Syrian Arab Republic",
          "Taiwan, Province of China",
          "Tajikistan",
          "Tanzania, United Republic of",
          "Thailand",
          "Togo",
          "Trinidad and Tobago",
          "Tunisia",
          "Turkmenistan",
          "Türkiye",
          "Uganda",
          "Ukraine",
          "United Arab Emirates",
          "United Kingdom",
          "United States",
          "Uruguay",
          "Uzbekistan",
          "Venezuela, Bolivarian Republic of",
          "Viet Nam",
          "Yemen",
          "Zambia",
          "Zimbabwe"
         ],
         "name": "",
         "type": "choropleth",
         "z": [
          21673.32,
          3888.12,
          36091.590000000004,
          25554,
          57511.78328,
          156.75,
          925235.853,
          92539.05,
          5631.51,
          669.18,
          78256.47,
          7174.27392,
          13386.09,
          49226.7,
          6212.07,
          11588.97,
          2599.26,
          361106.41896,
          15557.64,
          267.72,
          17476.02,
          22349.37,
          66928.17,
          2377.56,
          1317.03,
          35447.070719999996,
          700562.025,
          81502.52976,
          2713.23,
          87416.58,
          4461.18,
          158854.93548,
          9573.93,
          25618.17,
          8638.053,
          2392.95,
          126140.58128,
          13342.98036,
          84139.32,
          177554.9032,
          150.51,
          187.73999999999998,
          4479.84,
          288.03000000000003,
          850.62,
          20704.35,
          858931.083,
          1751.73,
          5427.42,
          628840.0305,
          23272.26,
          1461.64,
          131602.46676,
          3498.27,
          2065.44,
          11038.329,
          90125.6486,
          6147,
          14254.050000000001,
          589650.105,
          404887.4979,
          113746.11,
          70714.8,
          16639.509,
          19294.079999999998,
          289709.658,
          6761.7858400000005,
          100787.51699999999,
          7326.15,
          4605.444,
          17573.13,
          33125.379,
          5106.3,
          2796.66,
          6711.99,
          3560.88,
          7808.4,
          6724.331999999999,
          12617.55,
          61362.21,
          8914.47,
          5968.15104,
          4020.9300000000003,
          622590.61752,
          5139.93,
          6789.84,
          4004.37,
          87077.94,
          21302.88,
          34138.871699999996,
          2899.47,
          3522.24,
          77514.94499999999,
          172020.624,
          149687.06456,
          6922.98,
          54350.352,
          209.64,
          20525.37,
          58872.612,
          51539.92752,
          2928.1349999999998,
          2590.3675200000002,
          17833.18372,
          183420.165,
          44228.85,
          15105.12,
          6049.8,
          37256.58,
          82913.88,
          5194.08,
          82012.2,
          28848.9,
          2447.67,
          40286.25,
          865.3199999999999,
          1469.94,
          8185.05,
          95292.27,
          1045.6200000000001,
          287146.68,
          851.82,
          16338.57,
          30491.403,
          24877.86,
          5310.63,
          7647.63,
          242.784,
          26816.139,
          77051.955,
          4146.42,
          6881.16448,
          1760.79,
          2027.061,
          108507.948,
          1621.935,
          86857.17,
          744.12,
          528576.3,
          2297200.8603,
          9712.544,
          7329.87,
          26587.829560000002,
          65800.1994,
          2465.712,
          26035.5,
          3765.105
         ]
        }
       ],
       "layout": {
        "coloraxis": {
         "cmax": 2297200.8603,
         "cmin": 150.51,
         "colorbar": {
          "ticktext": [
           "151",
           "2,297,201"
          ],
          "tickvals": [
           150.51,
           2297200.8603
          ],
          "title": {
           "text": "Vendas"
          }
         },
         "colorscale": [
          [
           0,
           "#30123b"
          ],
          [
           0.07142857142857142,
           "#4145ab"
          ],
          [
           0.14285714285714285,
           "#4675ed"
          ],
          [
           0.21428571428571427,
           "#39a2fc"
          ],
          [
           0.2857142857142857,
           "#1bcfd4"
          ],
          [
           0.35714285714285715,
           "#24eca6"
          ],
          [
           0.42857142857142855,
           "#61fc6c"
          ],
          [
           0.5,
           "#a4fc3b"
          ],
          [
           0.5714285714285714,
           "#d1e834"
          ],
          [
           0.6428571428571429,
           "#f3c63a"
          ],
          [
           0.7142857142857143,
           "#fe9b2d"
          ],
          [
           0.7857142857142857,
           "#f36315"
          ],
          [
           0.8571428571428571,
           "#d93806"
          ],
          [
           0.9285714285714286,
           "#b11901"
          ],
          [
           1,
           "#7a0402"
          ]
         ]
        },
        "font": {
         "color": "white"
        },
        "geo": {
         "bgcolor": "rgba(0,0,0,0)",
         "center": {},
         "domain": {
          "x": [
           0,
           1
          ],
          "y": [
           0,
           1
          ]
         },
         "lakecolor": "rgba(0,0,0,0)"
        },
        "height": 800,
        "legend": {
         "tracegroupgap": 0
        },
        "margin": {
         "b": 0,
         "l": 0,
         "r": 0,
         "t": 50
        },
        "paper_bgcolor": "rgb(30,30,30)",
        "plot_bgcolor": "rgb(30,30,30)",
        "template": {
         "data": {
          "bar": [
           {
            "error_x": {
             "color": "#2a3f5f"
            },
            "error_y": {
             "color": "#2a3f5f"
            },
            "marker": {
             "line": {
              "color": "#E5ECF6",
              "width": 0.5
             },
             "pattern": {
              "fillmode": "overlay",
              "size": 10,
              "solidity": 0.2
             }
            },
            "type": "bar"
           }
          ],
          "barpolar": [
           {
            "marker": {
             "line": {
              "color": "#E5ECF6",
              "width": 0.5
             },
             "pattern": {
              "fillmode": "overlay",
              "size": 10,
              "solidity": 0.2
             }
            },
            "type": "barpolar"
           }
          ],
          "carpet": [
           {
            "aaxis": {
             "endlinecolor": "#2a3f5f",
             "gridcolor": "white",
             "linecolor": "white",
             "minorgridcolor": "white",
             "startlinecolor": "#2a3f5f"
            },
            "baxis": {
             "endlinecolor": "#2a3f5f",
             "gridcolor": "white",
             "linecolor": "white",
             "minorgridcolor": "white",
             "startlinecolor": "#2a3f5f"
            },
            "type": "carpet"
           }
          ],
          "choropleth": [
           {
            "colorbar": {
             "outlinewidth": 0,
             "ticks": ""
            },
            "type": "choropleth"
           }
          ],
          "contour": [
           {
            "colorbar": {
             "outlinewidth": 0,
             "ticks": ""
            },
            "colorscale": [
             [
              0,
              "#0d0887"
             ],
             [
              0.1111111111111111,
              "#46039f"
             ],
             [
              0.2222222222222222,
              "#7201a8"
             ],
             [
              0.3333333333333333,
              "#9c179e"
             ],
             [
              0.4444444444444444,
              "#bd3786"
             ],
             [
              0.5555555555555556,
              "#d8576b"
             ],
             [
              0.6666666666666666,
              "#ed7953"
             ],
             [
              0.7777777777777778,
              "#fb9f3a"
             ],
             [
              0.8888888888888888,
              "#fdca26"
             ],
             [
              1,
              "#f0f921"
             ]
            ],
            "type": "contour"
           }
          ],
          "contourcarpet": [
           {
            "colorbar": {
             "outlinewidth": 0,
             "ticks": ""
            },
            "type": "contourcarpet"
           }
          ],
          "heatmap": [
           {
            "colorbar": {
             "outlinewidth": 0,
             "ticks": ""
            },
            "colorscale": [
             [
              0,
              "#0d0887"
             ],
             [
              0.1111111111111111,
              "#46039f"
             ],
             [
              0.2222222222222222,
              "#7201a8"
             ],
             [
              0.3333333333333333,
              "#9c179e"
             ],
             [
              0.4444444444444444,
              "#bd3786"
             ],
             [
              0.5555555555555556,
              "#d8576b"
             ],
             [
              0.6666666666666666,
              "#ed7953"
             ],
             [
              0.7777777777777778,
              "#fb9f3a"
             ],
             [
              0.8888888888888888,
              "#fdca26"
             ],
             [
              1,
              "#f0f921"
             ]
            ],
            "type": "heatmap"
           }
          ],
          "heatmapgl": [
           {
            "colorbar": {
             "outlinewidth": 0,
             "ticks": ""
            },
            "colorscale": [
             [
              0,
              "#0d0887"
             ],
             [
              0.1111111111111111,
              "#46039f"
             ],
             [
              0.2222222222222222,
              "#7201a8"
             ],
             [
              0.3333333333333333,
              "#9c179e"
             ],
             [
              0.4444444444444444,
              "#bd3786"
             ],
             [
              0.5555555555555556,
              "#d8576b"
             ],
             [
              0.6666666666666666,
              "#ed7953"
             ],
             [
              0.7777777777777778,
              "#fb9f3a"
             ],
             [
              0.8888888888888888,
              "#fdca26"
             ],
             [
              1,
              "#f0f921"
             ]
            ],
            "type": "heatmapgl"
           }
          ],
          "histogram": [
           {
            "marker": {
             "pattern": {
              "fillmode": "overlay",
              "size": 10,
              "solidity": 0.2
             }
            },
            "type": "histogram"
           }
          ],
          "histogram2d": [
           {
            "colorbar": {
             "outlinewidth": 0,
             "ticks": ""
            },
            "colorscale": [
             [
              0,
              "#0d0887"
             ],
             [
              0.1111111111111111,
              "#46039f"
             ],
             [
              0.2222222222222222,
              "#7201a8"
             ],
             [
              0.3333333333333333,
              "#9c179e"
             ],
             [
              0.4444444444444444,
              "#bd3786"
             ],
             [
              0.5555555555555556,
              "#d8576b"
             ],
             [
              0.6666666666666666,
              "#ed7953"
             ],
             [
              0.7777777777777778,
              "#fb9f3a"
             ],
             [
              0.8888888888888888,
              "#fdca26"
             ],
             [
              1,
              "#f0f921"
             ]
            ],
            "type": "histogram2d"
           }
          ],
          "histogram2dcontour": [
           {
            "colorbar": {
             "outlinewidth": 0,
             "ticks": ""
            },
            "colorscale": [
             [
              0,
              "#0d0887"
             ],
             [
              0.1111111111111111,
              "#46039f"
             ],
             [
              0.2222222222222222,
              "#7201a8"
             ],
             [
              0.3333333333333333,
              "#9c179e"
             ],
             [
              0.4444444444444444,
              "#bd3786"
             ],
             [
              0.5555555555555556,
              "#d8576b"
             ],
             [
              0.6666666666666666,
              "#ed7953"
             ],
             [
              0.7777777777777778,
              "#fb9f3a"
             ],
             [
              0.8888888888888888,
              "#fdca26"
             ],
             [
              1,
              "#f0f921"
             ]
            ],
            "type": "histogram2dcontour"
           }
          ],
          "mesh3d": [
           {
            "colorbar": {
             "outlinewidth": 0,
             "ticks": ""
            },
            "type": "mesh3d"
           }
          ],
          "parcoords": [
           {
            "line": {
             "colorbar": {
              "outlinewidth": 0,
              "ticks": ""
             }
            },
            "type": "parcoords"
           }
          ],
          "pie": [
           {
            "automargin": true,
            "type": "pie"
           }
          ],
          "scatter": [
           {
            "fillpattern": {
             "fillmode": "overlay",
             "size": 10,
             "solidity": 0.2
            },
            "type": "scatter"
           }
          ],
          "scatter3d": [
           {
            "line": {
             "colorbar": {
              "outlinewidth": 0,
              "ticks": ""
             }
            },
            "marker": {
             "colorbar": {
              "outlinewidth": 0,
              "ticks": ""
             }
            },
            "type": "scatter3d"
           }
          ],
          "scattercarpet": [
           {
            "marker": {
             "colorbar": {
              "outlinewidth": 0,
              "ticks": ""
             }
            },
            "type": "scattercarpet"
           }
          ],
          "scattergeo": [
           {
            "marker": {
             "colorbar": {
              "outlinewidth": 0,
              "ticks": ""
             }
            },
            "type": "scattergeo"
           }
          ],
          "scattergl": [
           {
            "marker": {
             "colorbar": {
              "outlinewidth": 0,
              "ticks": ""
             }
            },
            "type": "scattergl"
           }
          ],
          "scattermapbox": [
           {
            "marker": {
             "colorbar": {
              "outlinewidth": 0,
              "ticks": ""
             }
            },
            "type": "scattermapbox"
           }
          ],
          "scatterpolar": [
           {
            "marker": {
             "colorbar": {
              "outlinewidth": 0,
              "ticks": ""
             }
            },
            "type": "scatterpolar"
           }
          ],
          "scatterpolargl": [
           {
            "marker": {
             "colorbar": {
              "outlinewidth": 0,
              "ticks": ""
             }
            },
            "type": "scatterpolargl"
           }
          ],
          "scatterternary": [
           {
            "marker": {
             "colorbar": {
              "outlinewidth": 0,
              "ticks": ""
             }
            },
            "type": "scatterternary"
           }
          ],
          "surface": [
           {
            "colorbar": {
             "outlinewidth": 0,
             "ticks": ""
            },
            "colorscale": [
             [
              0,
              "#0d0887"
             ],
             [
              0.1111111111111111,
              "#46039f"
             ],
             [
              0.2222222222222222,
              "#7201a8"
             ],
             [
              0.3333333333333333,
              "#9c179e"
             ],
             [
              0.4444444444444444,
              "#bd3786"
             ],
             [
              0.5555555555555556,
              "#d8576b"
             ],
             [
              0.6666666666666666,
              "#ed7953"
             ],
             [
              0.7777777777777778,
              "#fb9f3a"
             ],
             [
              0.8888888888888888,
              "#fdca26"
             ],
             [
              1,
              "#f0f921"
             ]
            ],
            "type": "surface"
           }
          ],
          "table": [
           {
            "cells": {
             "fill": {
              "color": "#EBF0F8"
             },
             "line": {
              "color": "white"
             }
            },
            "header": {
             "fill": {
              "color": "#C8D4E3"
             },
             "line": {
              "color": "white"
             }
            },
            "type": "table"
           }
          ]
         },
         "layout": {
          "annotationdefaults": {
           "arrowcolor": "#2a3f5f",
           "arrowhead": 0,
           "arrowwidth": 1
          },
          "autotypenumbers": "strict",
          "coloraxis": {
           "colorbar": {
            "outlinewidth": 0,
            "ticks": ""
           }
          },
          "colorscale": {
           "diverging": [
            [
             0,
             "#8e0152"
            ],
            [
             0.1,
             "#c51b7d"
            ],
            [
             0.2,
             "#de77ae"
            ],
            [
             0.3,
             "#f1b6da"
            ],
            [
             0.4,
             "#fde0ef"
            ],
            [
             0.5,
             "#f7f7f7"
            ],
            [
             0.6,
             "#e6f5d0"
            ],
            [
             0.7,
             "#b8e186"
            ],
            [
             0.8,
             "#7fbc41"
            ],
            [
             0.9,
             "#4d9221"
            ],
            [
             1,
             "#276419"
            ]
           ],
           "sequential": [
            [
             0,
             "#0d0887"
            ],
            [
             0.1111111111111111,
             "#46039f"
            ],
            [
             0.2222222222222222,
             "#7201a8"
            ],
            [
             0.3333333333333333,
             "#9c179e"
            ],
            [
             0.4444444444444444,
             "#bd3786"
            ],
            [
             0.5555555555555556,
             "#d8576b"
            ],
            [
             0.6666666666666666,
             "#ed7953"
            ],
            [
             0.7777777777777778,
             "#fb9f3a"
            ],
            [
             0.8888888888888888,
             "#fdca26"
            ],
            [
             1,
             "#f0f921"
            ]
           ],
           "sequentialminus": [
            [
             0,
             "#0d0887"
            ],
            [
             0.1111111111111111,
             "#46039f"
            ],
            [
             0.2222222222222222,
             "#7201a8"
            ],
            [
             0.3333333333333333,
             "#9c179e"
            ],
            [
             0.4444444444444444,
             "#bd3786"
            ],
            [
             0.5555555555555556,
             "#d8576b"
            ],
            [
             0.6666666666666666,
             "#ed7953"
            ],
            [
             0.7777777777777778,
             "#fb9f3a"
            ],
            [
             0.8888888888888888,
             "#fdca26"
            ],
            [
             1,
             "#f0f921"
            ]
           ]
          },
          "colorway": [
           "#636efa",
           "#EF553B",
           "#00cc96",
           "#ab63fa",
           "#FFA15A",
           "#19d3f3",
           "#FF6692",
           "#B6E880",
           "#FF97FF",
           "#FECB52"
          ],
          "font": {
           "color": "#2a3f5f"
          },
          "geo": {
           "bgcolor": "white",
           "lakecolor": "white",
           "landcolor": "#E5ECF6",
           "showlakes": true,
           "showland": true,
           "subunitcolor": "white"
          },
          "hoverlabel": {
           "align": "left"
          },
          "hovermode": "closest",
          "mapbox": {
           "style": "light"
          },
          "paper_bgcolor": "white",
          "plot_bgcolor": "#E5ECF6",
          "polar": {
           "angularaxis": {
            "gridcolor": "white",
            "linecolor": "white",
            "ticks": ""
           },
           "bgcolor": "#E5ECF6",
           "radialaxis": {
            "gridcolor": "white",
            "linecolor": "white",
            "ticks": ""
           }
          },
          "scene": {
           "xaxis": {
            "backgroundcolor": "#E5ECF6",
            "gridcolor": "white",
            "gridwidth": 2,
            "linecolor": "white",
            "showbackground": true,
            "ticks": "",
            "zerolinecolor": "white"
           },
           "yaxis": {
            "backgroundcolor": "#E5ECF6",
            "gridcolor": "white",
            "gridwidth": 2,
            "linecolor": "white",
            "showbackground": true,
            "ticks": "",
            "zerolinecolor": "white"
           },
           "zaxis": {
            "backgroundcolor": "#E5ECF6",
            "gridcolor": "white",
            "gridwidth": 2,
            "linecolor": "white",
            "showbackground": true,
            "ticks": "",
            "zerolinecolor": "white"
           }
          },
          "shapedefaults": {
           "line": {
            "color": "#2a3f5f"
           }
          },
          "ternary": {
           "aaxis": {
            "gridcolor": "white",
            "linecolor": "white",
            "ticks": ""
           },
           "baxis": {
            "gridcolor": "white",
            "linecolor": "white",
            "ticks": ""
           },
           "bgcolor": "#E5ECF6",
           "caxis": {
            "gridcolor": "white",
            "linecolor": "white",
            "ticks": ""
           }
          },
          "title": {
           "x": 0.05
          },
          "xaxis": {
           "automargin": true,
           "gridcolor": "white",
           "linecolor": "white",
           "ticks": "",
           "title": {
            "standoff": 15
           },
           "zerolinecolor": "white",
           "zerolinewidth": 2
          },
          "yaxis": {
           "automargin": true,
           "gridcolor": "white",
           "linecolor": "white",
           "ticks": "",
           "title": {
            "standoff": 15
           },
           "zerolinecolor": "white",
           "zerolinewidth": 2
          }
         }
        },
        "title": {
         "font": {
          "color": "white",
          "size": 28
         },
         "text": "Distribuição Geográfica das Vendas"
        },
        "width": 1200
       }
      }
     },
     "metadata": {},
     "output_type": "display_data"
    }
   ],
   "source": [
    "import plotly.express as px\n",
    "\n",
    "# Agrupar as vendas por País\n",
    "geo_sales = base_dados_do_teste.groupby('País')['Vendas'].sum().reset_index()\n",
    "\n",
    "# Mapa de calor por País\n",
    "fig = px.choropleth(\n",
    "    geo_sales,\n",
    "    locationmode=\"country names\",  # Usando 'country names' \n",
    "    locations='País',  # Coluna 'País' para os locais\n",
    "    color='Vendas',\n",
    "    color_continuous_scale='Turbo',  # Cores vibrantes\n",
    "    range_color=(geo_sales['Vendas'].min(), geo_sales['Vendas'].max()),\n",
    "    title=\"Distribuição Geográfica das Vendas\"\n",
    ")\n",
    "\n",
    "# Personalizar aparência\n",
    "fig.update_layout(\n",
    "    geo=dict(bgcolor='rgba(0,0,0,0)', lakecolor='rgba(0,0,0,0)'),  # Fundo transparente para o mapa e lagos\n",
    "    paper_bgcolor='rgb(30,30,30)',  # Fundo escuro\n",
    "    plot_bgcolor='rgb(30,30,30)',  # Fundo do gráfico escuro\n",
    "    font_color='white',  # Textos em branco para melhor contraste\n",
    "    title_font_size=28,  # Aumentar o tamanho do título\n",
    "    title_font_color='white',  # Cor do título branca\n",
    "    coloraxis_colorbar=dict(\n",
    "        title='Vendas',  # Título da barra de cores\n",
    "        tickvals=[geo_sales['Vendas'].min(), geo_sales['Vendas'].max()],  # Definir intervalo de valores\n",
    "        ticktext=[f'{geo_sales[\"Vendas\"].min():,.0f}', f'{geo_sales[\"Vendas\"].max():,.0f}']  # Formatação dos ticks\n",
    "    ),\n",
    "    margin={\"r\":0,\"t\":50,\"l\":0,\"b\":0},  # Ajuste de margens para um visual mais limpo\n",
    "    height=800,  # Aumentar a altura do gráfico\n",
    "    width=1200   # Aumentar a largura do gráfico\n",
    ")\n",
    "\n",
    "fig.show()\n"
   ]
  },
  {
   "cell_type": "code",
   "execution_count": 69,
   "metadata": {},
   "outputs": [
    {
     "name": "stdout",
     "output_type": "stream",
     "text": [
      "            Vendas  Desconto\n",
      "Vendas    1.000000 -0.086722\n",
      "Desconto -0.086722  1.000000\n"
     ]
    }
   ],
   "source": [
    "correlacao = base_dados_do_teste[['Vendas', 'Desconto']].corr()\n",
    "print(correlacao)\n"
   ]
  },
  {
   "cell_type": "code",
   "execution_count": 71,
   "metadata": {},
   "outputs": [
    {
     "data": {
      "image/png": "[encoded data removed]",
      "text/plain": [
       "<Figure size 1000x600 with 1 Axes>"
      ]
     },
     "metadata": {},
     "output_type": "display_data"
    }
   ],
   "source": [
    "import seaborn as sns\n",
    "import matplotlib.pyplot as plt\n",
    "\n",
    "plt.figure(figsize=(10, 6))\n",
    "sns.scatterplot(data=base_dados_do_teste, x='Desconto', y='Vendas', alpha=0.5)\n",
    "plt.title('Correlação entre Desconto e Vendas')\n",
    "plt.xlabel('Desconto')\n",
    "plt.ylabel('Vendas')\n",
    "plt.grid(True)\n",
    "plt.show()\n"
   ]
  }
 ],
 "metadata": {
  "kernelspec": {
   "display_name": "base",
   "language": "python",
   "name": "python3"
  },
  "language_info": {
   "codemirror_mode": {
    "name": "ipython",
    "version": 3
   },
   "file_extension": ".py",
   "mimetype": "text/x-python",
   "name": "python",
   "nbconvert_exporter": "python",
   "pygments_lexer": "ipython3",
   "version": "3.12.7"
  }
 },
 "nbformat": 4,
 "nbformat_minor": 2
}
